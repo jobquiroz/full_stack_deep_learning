{
 "cells": [
  {
   "cell_type": "code",
   "execution_count": 1,
   "id": "6f008adf",
   "metadata": {},
   "outputs": [
    {
     "name": "stdout",
     "output_type": "stream",
     "text": [
      "/home/jobquiroz/full_stack_deep_learning/lab02/notebooks\r\n"
     ]
    }
   ],
   "source": [
    "!pwd"
   ]
  },
  {
   "cell_type": "code",
   "execution_count": 2,
   "id": "aff480bd",
   "metadata": {},
   "outputs": [
    {
     "data": {
      "text/plain": [
       "'/home/jobquiroz/full_stack_deep_learning/lab02/notebooks'"
      ]
     },
     "execution_count": 2,
     "metadata": {},
     "output_type": "execute_result"
    }
   ],
   "source": [
    "# Fixing path\n",
    "import os\n",
    "\n",
    "os.getcwd()   # Verify where it is right now..."
   ]
  },
  {
   "cell_type": "code",
   "execution_count": 3,
   "id": "725ea610",
   "metadata": {},
   "outputs": [],
   "source": [
    "# Solution, go to lab directory:\n",
    "os.chdir('/home/jobquiroz/full_stack_deep_learning/lab02/')"
   ]
  },
  {
   "cell_type": "code",
   "execution_count": 4,
   "id": "f0be90b3",
   "metadata": {},
   "outputs": [
    {
     "data": {
      "text/plain": [
       "['text_recognizer', 'notebooks', '.ipynb_checkpoints']"
      ]
     },
     "execution_count": 4,
     "metadata": {},
     "output_type": "execute_result"
    }
   ],
   "source": [
    "os.listdir()"
   ]
  },
  {
   "cell_type": "markdown",
   "id": "e26794ca",
   "metadata": {},
   "source": [
    "## PyTorch Lightning"
   ]
  },
  {
   "cell_type": "code",
   "execution_count": 5,
   "id": "a0c5c7fb",
   "metadata": {},
   "outputs": [
    {
     "data": {
      "text/plain": [
       "'https://pytorch-lightning.readthedocs.io/en/1.6.3/'"
      ]
     },
     "execution_count": 5,
     "metadata": {},
     "output_type": "execute_result"
    }
   ],
   "source": [
    "import pytorch_lightning as pl\n",
    "\n",
    "version = pl.__version__\n",
    "\n",
    "docs_url = f\"https://pytorch-lightning.readthedocs.io/en/{version}/\"  # version can also be latest, stable\n",
    "docs_url"
   ]
  },
  {
   "cell_type": "markdown",
   "id": "9a659217",
   "metadata": {},
   "source": [
    "### `pl.LightningModule`"
   ]
  },
  {
   "cell_type": "code",
   "execution_count": 6,
   "id": "85e180d4",
   "metadata": {},
   "outputs": [
    {
     "data": {
      "text/plain": [
       "True"
      ]
     },
     "execution_count": 6,
     "metadata": {},
     "output_type": "execute_result"
    }
   ],
   "source": [
    "import torch\n",
    "\n",
    "issubclass(pl.LightningModule, torch.nn.Module)"
   ]
  },
  {
   "cell_type": "code",
   "execution_count": 17,
   "id": "a58e0d8d",
   "metadata": {},
   "outputs": [],
   "source": [
    "from text_recognizer.lit_models import BaseLitModel"
   ]
  },
  {
   "cell_type": "code",
   "execution_count": 18,
   "id": "5a74b7b5",
   "metadata": {},
   "outputs": [],
   "source": [
    "class LinearRegression(pl.LightningModule):\n",
    "\n",
    "    def __init__(self):\n",
    "        super().__init__()  # just like in torch.nn.Module, we need to call the parent class __init__\n",
    "\n",
    "        # attach torch.nn.Modules as top level attributes during init, just like in a torch.nn.Module\n",
    "        self.model = torch.nn.Linear(in_features=1, out_features=1)\n",
    "        # we like to define the entire model as one torch.nn.Module -- typically in a separate class\n",
    "\n",
    "    # optionally, define a forward method\n",
    "    def forward(self, xs):\n",
    "        return self.model(xs)  # we like to just call the model's forward method"
   ]
  },
  {
   "cell_type": "code",
   "execution_count": 19,
   "id": "78112d41",
   "metadata": {},
   "outputs": [
    {
     "name": "stdout",
     "output_type": "stream",
     "text": [
      "Error:\n",
      "\tNo `training_step()` method defined. Lightning `Trainer` expects as minimum a\n",
      "\t`training_step()`, `train_dataloader()` and `configure_optimizers()` to be\n",
      "\tdefined.\n"
     ]
    }
   ],
   "source": [
    "import logging  # import some stdlib components to control what's display\n",
    "import textwrap\n",
    "import traceback\n",
    "\n",
    "try:  # try using the LinearRegression LightningModule defined above\n",
    "    logging.getLogger(\"pytorch_lightning\").setLevel(logging.ERROR)  # hide some info for now\n",
    "\n",
    "    model = LinearRegression()\n",
    "\n",
    "    # we'll explain how the Trainer works in a bit\n",
    "    trainer = pl.Trainer(gpus=int(torch.cuda.is_available()), max_epochs=1)\n",
    "    trainer.fit(model=model)  \n",
    "\n",
    "except pl.utilities.exceptions.MisconfigurationException as error:\n",
    "    print(\"Error:\", *textwrap.wrap(str(error), 80), sep=\"\\n\\t\")  # show the error without raising it\n",
    "\n",
    "finally:  # bring back info-level logging\n",
    "    logging.getLogger(\"pytorch_lightning\").setLevel(logging.INFO)"
   ]
  },
  {
   "cell_type": "markdown",
   "id": "b1038f7f",
   "metadata": {},
   "source": [
    "### Training_step"
   ]
  },
  {
   "cell_type": "code",
   "execution_count": 20,
   "id": "629296fd",
   "metadata": {},
   "outputs": [],
   "source": [
    "from typing import Tuple\n",
    "\n",
    "def training_step(self: pl.LightningModule, batch: Tuple[torch.Tensor, torch.Tensor], batch_idx: int) -> torch.Tensor:\n",
    "    xs, ys = batch  # unpack the batch\n",
    "    outs = self(xs)  # apply the model\n",
    "    loss = torch.nn.functional.mse_loss(outs, ys)  # compute the (squared error) loss\n",
    "    return loss\n",
    "\n",
    "LinearRegression.training_step = training_step"
   ]
  },
  {
   "cell_type": "markdown",
   "id": "1194e34e",
   "metadata": {},
   "source": [
    "### Configure optimizers"
   ]
  },
  {
   "cell_type": "code",
   "execution_count": 22,
   "id": "9e016ce7",
   "metadata": {},
   "outputs": [],
   "source": [
    "def configure_optimizers(self: LinearRegression) -> torch.optim.Optimizer:\n",
    "    optimizer = torch.optim.Adam(self.parameters(), lr=3e-4)  # https://fsdl.me/ol-reliable-img\n",
    "    return optimizer\n",
    "\n",
    "\n",
    "LinearRegression.configure_optimizers = configure_optimizers"
   ]
  },
  {
   "cell_type": "markdown",
   "id": "fa4d20ee",
   "metadata": {},
   "source": [
    "## `pl.Trainer`\n",
    "\n"
   ]
  },
  {
   "cell_type": "code",
   "execution_count": 23,
   "id": "4b788e5a",
   "metadata": {},
   "outputs": [
    {
     "name": "stderr",
     "output_type": "stream",
     "text": [
      "GPU available: True, used: True\n",
      "TPU available: False, using: 0 TPU cores\n",
      "IPU available: False, using: 0 IPUs\n",
      "HPU available: False, using: 0 HPUs\n"
     ]
    }
   ],
   "source": [
    "trainer = pl.Trainer(max_epochs=20, gpus=int(torch.cuda.is_available()))"
   ]
  },
  {
   "cell_type": "code",
   "execution_count": 25,
   "id": "77191634",
   "metadata": {},
   "outputs": [],
   "source": [
    "class CorrelatedDataset(torch.utils.data.Dataset):\n",
    "\n",
    "    def __init__(self, N=10_000):\n",
    "        self.N = N\n",
    "        self.xs = torch.randn(size=(N, 1))\n",
    "        self.ys = torch.randn_like(self.xs) + self.xs  # correlated target data: y ~ N(x, 1)\n",
    "\n",
    "    def __getitem__(self, idx):\n",
    "        return (self.xs[idx], self.ys[idx])\n",
    "\n",
    "    def __len__(self):\n",
    "        return self.N\n",
    "\n",
    "\n",
    "dataset = CorrelatedDataset()\n",
    "tdl = torch.utils.data.DataLoader(dataset, batch_size=32, num_workers=1)"
   ]
  },
  {
   "cell_type": "code",
   "execution_count": 26,
   "id": "50117d96",
   "metadata": {},
   "outputs": [
    {
     "name": "stdout",
     "output_type": "stream",
     "text": [
      "xs:\n",
      "tensor([[-1.4647],\n",
      "        [ 1.5247],\n",
      "        [ 0.3228],\n",
      "        [ 0.3341],\n",
      "        [ 0.4599],\n",
      "        [ 2.4992],\n",
      "        [-0.1076],\n",
      "        [-0.8604],\n",
      "        [ 0.6806],\n",
      "        [-0.2835]])\n",
      "ys:\n",
      "tensor([[-1.2774],\n",
      "        [ 2.1730],\n",
      "        [-0.1785],\n",
      "        [ 0.5804],\n",
      "        [-0.2740],\n",
      "        [ 1.4019],\n",
      "        [ 0.8990],\n",
      "        [ 0.0136],\n",
      "        [ 0.8030],\n",
      "        [-0.6972]])\n"
     ]
    }
   ],
   "source": [
    "example_xs, example_ys = next(iter(tdl))  # grabbing an example batch to print\n",
    "\n",
    "print(\"xs:\", example_xs[:10], sep=\"\\n\")\n",
    "print(\"ys:\", example_ys[:10], sep=\"\\n\")"
   ]
  },
  {
   "cell_type": "code",
   "execution_count": 30,
   "id": "0a0596dc",
   "metadata": {},
   "outputs": [],
   "source": [
    "%matplotlib inline"
   ]
  },
  {
   "cell_type": "code",
   "execution_count": 31,
   "id": "2e8ad0dc",
   "metadata": {},
   "outputs": [
    {
     "data": {
      "text/plain": [
       "<AxesSubplot:xlabel='x', ylabel='y'>"
      ]
     },
     "execution_count": 31,
     "metadata": {},
     "output_type": "execute_result"
    },
    {
     "data": {
      "image/png": "[encoded data removed]",
      "text/plain": [
       "<Figure size 432x288 with 1 Axes>"
      ]
     },
     "metadata": {
      "needs_background": "light"
     },
     "output_type": "display_data"
    }
   ],
   "source": [
    "import pandas as pd\n",
    "\n",
    "\n",
    "pd.DataFrame(data={\"x\": example_xs.flatten(), \"y\": example_ys.flatten()})\\\n",
    "  .plot(x=\"x\", y=\"y\", kind=\"scatter\")"
   ]
  },
  {
   "cell_type": "code",
   "execution_count": 33,
   "id": "dd06d4e9",
   "metadata": {},
   "outputs": [
    {
     "name": "stderr",
     "output_type": "stream",
     "text": [
      "/home/jobquiroz/miniconda3/envs/fsdl-text-recognizer-2022/lib/python3.7/site-packages/pytorch_lightning/callbacks/model_checkpoint.py:611: UserWarning: Checkpoint directory /home/jobquiroz/full_stack_deep_learning/lab02/lightning_logs/version_0/checkpoints exists and is not empty.\n",
      "  rank_zero_warn(f\"Checkpoint directory {dirpath} exists and is not empty.\")\n",
      "LOCAL_RANK: 0 - CUDA_VISIBLE_DEVICES: [0]\n",
      "\n",
      "  | Name  | Type   | Params\n",
      "---------------------------------\n",
      "0 | model | Linear | 2     \n",
      "---------------------------------\n",
      "2         Trainable params\n",
      "0         Non-trainable params\n",
      "2         Total params\n",
      "0.000     Total estimated model params size (MB)\n"
     ]
    },
    {
     "name": "stdout",
     "output_type": "stream",
     "text": [
      "loss before training: 5.318972587585449\n",
      "loss after training: 5.318972587585449\n"
     ]
    }
   ],
   "source": [
    "model = LinearRegression()\n",
    "\n",
    "print(\"loss before training:\", torch.mean(torch.square(model(dataset.xs) - dataset.ys)).item())\n",
    "\n",
    "trainer.fit(model=model, train_dataloaders=tdl)\n",
    "\n",
    "print(\"loss after training:\", torch.mean(torch.square(model(dataset.xs) - dataset.ys)).item())"
   ]
  },
  {
   "cell_type": "code",
   "execution_count": 34,
   "id": "eabea999",
   "metadata": {},
   "outputs": [
    {
     "data": {
      "image/png": "[encoded data removed]",
      "text/plain": [
       "<Figure size 432x288 with 1 Axes>"
      ]
     },
     "metadata": {
      "needs_background": "light"
     },
     "output_type": "display_data"
    }
   ],
   "source": [
    "ax = pd.DataFrame(data={\"x\": example_xs.flatten(), \"y\": example_ys.flatten()})\\\n",
    "  .plot(x=\"x\", y=\"y\", legend=True, kind=\"scatter\", label=\"data\")\n",
    "\n",
    "inps = torch.arange(-2, 2, 0.5)[:, None]\n",
    "ax.plot(inps, model(inps).detach(), lw=2, color=\"k\", label=\"predictions\"); ax.legend();"
   ]
  },
  {
   "cell_type": "code",
   "execution_count": 37,
   "id": "8dede24a",
   "metadata": {},
   "outputs": [
    {
     "data": {
      "text/plain": [
       "'Customize every aspect of training via flags.'"
      ]
     },
     "execution_count": 37,
     "metadata": {},
     "output_type": "execute_result"
    }
   ],
   "source": [
    "pl.Trainer.__init__.__doc__.strip().split(\"\\n\")[0]"
   ]
  },
  {
   "cell_type": "code",
   "execution_count": 38,
   "id": "120ccf7a",
   "metadata": {
    "scrolled": true
   },
   "outputs": [
    {
     "name": "stdout",
     "output_type": "stream",
     "text": [
      "\n",
      "        Customize every aspect of training via flags.\n",
      "\n",
      "        Args:\n",
      "\n",
      "            accelerator: Supports passing different accelerator types (\"cpu\", \"gpu\", \"tpu\", \"ipu\", \"hpu\", \"auto\")\n",
      "                as well as custom accelerator instances.\n",
      "\n",
      "                .. deprecated:: v1.5\n",
      "                    Passing training strategies (e.g., 'ddp') to ``accelerator`` has been deprecated in v1.5.0\n",
      "                    and will be removed in v1.7.0. Please use the ``strategy`` argument instead.\n",
      "\n",
      "            accumulate_grad_batches: Accumulates grads every k batches or as set up in the dict.\n",
      "                Default: ``None``.\n",
      "\n",
      "            amp_backend: The mixed precision backend to use (\"native\" or \"apex\").\n",
      "                Default: ``'native''``.\n",
      "\n",
      "            amp_level: The optimization level to use (O1, O2, etc...). By default it will be set to \"O2\"\n",
      "                if ``amp_backend`` is set to \"apex\".\n",
      "\n",
      "            auto_lr_find: If set to True, will make trainer.tune() run a learning rate finder,\n",
      "                trying to optimize initial learning for faster convergence. trainer.tune() method will\n",
      "                set the suggested learning rate in self.lr or self.learning_rate in the LightningModule.\n",
      "                To use a different key set a string instead of True with the key name.\n",
      "                Default: ``False``.\n",
      "\n",
      "            auto_scale_batch_size: If set to True, will `initially` run a batch size\n",
      "                finder trying to find the largest batch size that fits into memory.\n",
      "                The result will be stored in self.batch_size in the LightningModule.\n",
      "                Additionally, can be set to either `power` that estimates the batch size through\n",
      "                a power search or `binsearch` that estimates the batch size through a binary search.\n",
      "                Default: ``False``.\n",
      "\n",
      "            auto_select_gpus: If enabled and ``gpus`` or ``devices`` is an integer, pick available\n",
      "                gpus automatically. This is especially useful when\n",
      "                GPUs are configured to be in \"exclusive mode\", such\n",
      "                that only one process at a time can access them.\n",
      "                Default: ``False``.\n",
      "\n",
      "            benchmark: Sets ``torch.backends.cudnn.benchmark``.\n",
      "                Defaults to ``True`` if :paramref:`~pytorch_lightning.trainer.trainer.Trainer.deterministic`\n",
      "                is ``False``. Overwrite to manually set a different value. Default: ``None``.\n",
      "\n",
      "            callbacks: Add a callback or list of callbacks.\n",
      "                Default: ``None``.\n",
      "\n",
      "            checkpoint_callback: If ``True``, enable checkpointing.\n",
      "                Default: ``None``.\n",
      "\n",
      "                .. deprecated:: v1.5\n",
      "                    ``checkpoint_callback`` has been deprecated in v1.5 and will be removed in v1.7.\n",
      "                    Please consider using ``enable_checkpointing`` instead.\n",
      "\n",
      "            enable_checkpointing: If ``True``, enable checkpointing.\n",
      "                It will configure a default ModelCheckpoint callback if there is no user-defined ModelCheckpoint in\n",
      "                :paramref:`~pytorch_lightning.trainer.trainer.Trainer.callbacks`.\n",
      "                Default: ``True``.\n",
      "\n",
      "            check_val_every_n_epoch: Check val every n train epochs.\n",
      "                Default: ``1``.\n",
      "\n",
      "\n",
      "            default_root_dir: Default path for logs and weights when no logger/ckpt_callback passed.\n",
      "                Default: ``os.getcwd()``.\n",
      "                Can be remote file paths such as `s3://mybucket/path` or 'hdfs://path/'\n",
      "\n",
      "            detect_anomaly: Enable anomaly detection for the autograd engine.\n",
      "                Default: ``False``.\n",
      "\n",
      "            deterministic: If ``True``, sets whether PyTorch operations must use deterministic algorithms.\n",
      "                Default: ``False``.\n",
      "\n",
      "            devices: Will be mapped to either `gpus`, `tpu_cores`, `num_processes` or `ipus`,\n",
      "                based on the accelerator type.\n",
      "\n",
      "            fast_dev_run: Runs n if set to ``n`` (int) else 1 if set to ``True`` batch(es)\n",
      "                of train, val and test to find any bugs (ie: a sort of unit test).\n",
      "                Default: ``False``.\n",
      "\n",
      "            flush_logs_every_n_steps: How often to flush logs to disk (defaults to every 100 steps).\n",
      "\n",
      "                .. deprecated:: v1.5\n",
      "                    ``flush_logs_every_n_steps`` has been deprecated in v1.5 and will be removed in v1.7.\n",
      "                    Please configure flushing directly in the logger instead.\n",
      "\n",
      "            gpus: Number of GPUs to train on (int) or which GPUs to train on (list or str) applied per node\n",
      "                Default: ``None``.\n",
      "\n",
      "            gradient_clip_val: The value at which to clip gradients. Passing ``gradient_clip_val=None`` disables\n",
      "                gradient clipping. If using Automatic Mixed Precision (AMP), the gradients will be unscaled before.\n",
      "                Default: ``None``.\n",
      "\n",
      "            gradient_clip_algorithm: The gradient clipping algorithm to use. Pass ``gradient_clip_algorithm=\"value\"``\n",
      "                to clip by value, and ``gradient_clip_algorithm=\"norm\"`` to clip by norm. By default it will\n",
      "                be set to ``\"norm\"``.\n",
      "\n",
      "            limit_train_batches: How much of training dataset to check (float = fraction, int = num_batches).\n",
      "                Default: ``1.0``.\n",
      "\n",
      "            limit_val_batches: How much of validation dataset to check (float = fraction, int = num_batches).\n",
      "                Default: ``1.0``.\n",
      "\n",
      "            limit_test_batches: How much of test dataset to check (float = fraction, int = num_batches).\n",
      "                Default: ``1.0``.\n",
      "\n",
      "            limit_predict_batches: How much of prediction dataset to check (float = fraction, int = num_batches).\n",
      "                Default: ``1.0``.\n",
      "\n",
      "            logger: Logger (or iterable collection of loggers) for experiment tracking. A ``True`` value uses\n",
      "                the default ``TensorBoardLogger``. ``False`` will disable logging. If multiple loggers are\n",
      "                provided and the `save_dir` property of that logger is not set, local files (checkpoints,\n",
      "                profiler traces, etc.) are saved in ``default_root_dir`` rather than in the ``log_dir`` of any\n",
      "                of the individual loggers.\n",
      "                Default: ``True``.\n",
      "\n",
      "            log_gpu_memory: None, 'min_max', 'all'. Might slow performance.\n",
      "\n",
      "                .. deprecated:: v1.5\n",
      "                    Deprecated in v1.5.0 and will be removed in v1.7.0\n",
      "                    Please use the ``DeviceStatsMonitor`` callback directly instead.\n",
      "\n",
      "            log_every_n_steps: How often to log within steps.\n",
      "                Default: ``50``.\n",
      "\n",
      "            prepare_data_per_node: If True, each LOCAL_RANK=0 will call prepare data.\n",
      "                Otherwise only NODE_RANK=0, LOCAL_RANK=0 will prepare data\n",
      "\n",
      "                .. deprecated:: v1.5\n",
      "                    Deprecated in v1.5.0 and will be removed in v1.7.0\n",
      "                    Please set ``prepare_data_per_node`` in ``LightningDataModule`` and/or\n",
      "                    ``LightningModule`` directly instead.\n",
      "\n",
      "            process_position: Orders the progress bar when running multiple models on same machine.\n",
      "\n",
      "                .. deprecated:: v1.5\n",
      "                    ``process_position`` has been deprecated in v1.5 and will be removed in v1.7.\n",
      "                    Please pass :class:`~pytorch_lightning.callbacks.progress.TQDMProgressBar` with ``process_position``\n",
      "                    directly to the Trainer's ``callbacks`` argument instead.\n",
      "\n",
      "            progress_bar_refresh_rate: How often to refresh progress bar (in steps). Value ``0`` disables progress bar.\n",
      "                Ignored when a custom progress bar is passed to :paramref:`~Trainer.callbacks`. Default: None, means\n",
      "                a suitable value will be chosen based on the environment (terminal, Google COLAB, etc.).\n",
      "\n",
      "                .. deprecated:: v1.5\n",
      "                    ``progress_bar_refresh_rate`` has been deprecated in v1.5 and will be removed in v1.7.\n",
      "                    Please pass :class:`~pytorch_lightning.callbacks.progress.TQDMProgressBar` with ``refresh_rate``\n",
      "                    directly to the Trainer's ``callbacks`` argument instead. To disable the progress bar,\n",
      "                    pass ``enable_progress_bar = False`` to the Trainer.\n",
      "\n",
      "            enable_progress_bar: Whether to enable to progress bar by default.\n",
      "                Default: ``False``.\n",
      "\n",
      "            profiler: To profile individual steps during training and assist in identifying bottlenecks.\n",
      "                Default: ``None``.\n",
      "\n",
      "            overfit_batches: Overfit a fraction of training data (float) or a set number of batches (int).\n",
      "                Default: ``0.0``.\n",
      "\n",
      "            plugins: Plugins allow modification of core behavior like ddp and amp, and enable custom lightning plugins.\n",
      "                Default: ``None``.\n",
      "\n",
      "            precision: Double precision (64), full precision (32), half precision (16) or bfloat16 precision (bf16).\n",
      "                Can be used on CPU, GPU, TPUs, HPUs or IPUs.\n",
      "                Default: ``32``.\n",
      "\n",
      "            max_epochs: Stop training once this number of epochs is reached. Disabled by default (None).\n",
      "                If both max_epochs and max_steps are not specified, defaults to ``max_epochs = 1000``.\n",
      "                To enable infinite training, set ``max_epochs = -1``.\n",
      "\n",
      "            min_epochs: Force training for at least these many epochs. Disabled by default (None).\n",
      "\n",
      "            max_steps: Stop training after this number of steps. Disabled by default (-1). If ``max_steps = -1``\n",
      "                and ``max_epochs = None``, will default to ``max_epochs = 1000``. To enable infinite training, set\n",
      "                ``max_epochs`` to ``-1``.\n",
      "\n",
      "            min_steps: Force training for at least these number of steps. Disabled by default (``None``).\n",
      "\n",
      "            max_time: Stop training after this amount of time has passed. Disabled by default (``None``).\n",
      "                The time duration can be specified in the format DD:HH:MM:SS (days, hours, minutes seconds), as a\n",
      "                :class:`datetime.timedelta`, or a dictionary with keys that will be passed to\n",
      "                :class:`datetime.timedelta`.\n",
      "\n",
      "            num_nodes: Number of GPU nodes for distributed training.\n",
      "                Default: ``1``.\n",
      "\n",
      "            num_processes: Number of processes for distributed training with ``accelerator=\"cpu\"``.\n",
      "                Default: ``1``.\n",
      "\n",
      "            num_sanity_val_steps: Sanity check runs n validation batches before starting the training routine.\n",
      "                Set it to `-1` to run all batches in all validation dataloaders.\n",
      "                Default: ``2``.\n",
      "\n",
      "            reload_dataloaders_every_n_epochs: Set to a non-negative integer to reload dataloaders every n epochs.\n",
      "                Default: ``0``.\n",
      "\n",
      "            replace_sampler_ddp: Explicitly enables or disables sampler replacement. If not specified this\n",
      "                will toggled automatically when DDP is used. By default it will add ``shuffle=True`` for\n",
      "                train sampler and ``shuffle=False`` for val/test sampler. If you want to customize it,\n",
      "                you can set ``replace_sampler_ddp=False`` and add your own distributed sampler.\n",
      "\n",
      "            resume_from_checkpoint: Path/URL of the checkpoint from which training is resumed. If there is\n",
      "                no checkpoint file at the path, an exception is raised. If resuming from mid-epoch checkpoint,\n",
      "                training will start from the beginning of the next epoch.\n",
      "\n",
      "                .. deprecated:: v1.5\n",
      "                    ``resume_from_checkpoint`` is deprecated in v1.5 and will be removed in v2.0.\n",
      "                    Please pass the path to ``Trainer.fit(..., ckpt_path=...)`` instead.\n",
      "\n",
      "            strategy: Supports different training strategies with aliases\n",
      "                as well custom strategies.\n",
      "                Default: ``None``.\n",
      "\n",
      "            sync_batchnorm: Synchronize batch norm layers between process groups/whole world.\n",
      "                Default: ``False``.\n",
      "\n",
      "            terminate_on_nan: If set to True, will terminate training (by raising a `ValueError`) at the\n",
      "                end of each training batch, if any of the parameters or the loss are NaN or +/-inf.\n",
      "\n",
      "                .. deprecated:: v1.5\n",
      "                    Trainer argument ``terminate_on_nan`` was deprecated in v1.5 and will be removed in 1.7.\n",
      "                    Please use ``detect_anomaly`` instead.\n",
      "\n",
      "            detect_anomaly: Enable anomaly detection for the autograd engine.\n",
      "                Default: ``False``.\n",
      "\n",
      "            tpu_cores: How many TPU cores to train on (1 or 8) / Single TPU to train on (1)\n",
      "                Default: ``None``.\n",
      "\n",
      "            ipus: How many IPUs to train on.\n",
      "                Default: ``None``.\n",
      "\n",
      "            track_grad_norm: -1 no tracking. Otherwise tracks that p-norm. May be set to 'inf' infinity-norm. If using\n",
      "                Automatic Mixed Precision (AMP), the gradients will be unscaled before logging them.\n",
      "                Default: ``-1``.\n",
      "\n",
      "            val_check_interval: How often to check the validation set. Pass a ``float`` in the range [0.0, 1.0] to check\n",
      "                after a fraction of the training epoch. Pass an ``int`` to check after a fixed number of training\n",
      "                batches.\n",
      "                Default: ``1.0``.\n",
      "\n",
      "            enable_model_summary: Whether to enable model summarization by default.\n",
      "                Default: ``True``.\n",
      "\n",
      "            weights_summary: Prints a summary of the weights when training begins.\n",
      "\n",
      "                .. deprecated:: v1.5\n",
      "                    ``weights_summary`` has been deprecated in v1.5 and will be removed in v1.7.\n",
      "                    To disable the summary, pass ``enable_model_summary = False`` to the Trainer.\n",
      "                    To customize the summary, pass :class:`~pytorch_lightning.callbacks.model_summary.ModelSummary`\n",
      "                    directly to the Trainer's ``callbacks`` argument.\n",
      "\n",
      "            weights_save_path: Where to save weights if specified. Will override default_root_dir\n",
      "                for checkpoints only. Use this if for whatever reason you need the checkpoints\n",
      "                stored in a different place than the logs written in `default_root_dir`.\n",
      "                Can be remote file paths such as `s3://mybucket/path` or 'hdfs://path/'\n",
      "                Defaults to `default_root_dir`.\n",
      "\n",
      "                .. deprecated:: v1.6\n",
      "                    ``weights_save_path`` has been deprecated in v1.6 and will be removed in v1.8. Please pass\n",
      "                    ``dirpath`` directly to the :class:`~pytorch_lightning.callbacks.model_checkpoint.ModelCheckpoint`\n",
      "                    callback.\n",
      "\n",
      "            move_metrics_to_cpu: Whether to force internal logged metrics to be moved to cpu.\n",
      "                This can save some gpu memory, but can make training slower. Use with attention.\n",
      "                Default: ``False``.\n",
      "\n",
      "            multiple_trainloader_mode: How to loop over the datasets when there are multiple train loaders.\n",
      "                In 'max_size_cycle' mode, the trainer ends one epoch when the largest dataset is traversed,\n",
      "                and smaller datasets reload when running out of their data. In 'min_size' mode, all the datasets\n",
      "                reload when reaching the minimum length of datasets.\n",
      "                Default: ``\"max_size_cycle\"``.\n",
      "\n",
      "            stochastic_weight_avg: Whether to use `Stochastic Weight Averaging (SWA)\n",
      "                <https://pytorch.org/blog/pytorch-1.6-now-includes-stochastic-weight-averaging/>`_.\n",
      "                Default: ``False``.\n",
      "\n",
      "                .. deprecated:: v1.5\n",
      "                    ``stochastic_weight_avg`` has been deprecated in v1.5 and will be removed in v1.7.\n",
      "                    Please pass :class:`~pytorch_lightning.callbacks.stochastic_weight_avg.StochasticWeightAveraging`\n",
      "                    directly to the Trainer's ``callbacks`` argument instead.\n",
      "        \n"
     ]
    }
   ],
   "source": [
    "print(pl.Trainer.__init__.__doc__)"
   ]
  },
  {
   "cell_type": "markdown",
   "id": "fa0c083d",
   "metadata": {},
   "source": [
    "### Training with PyLit in the FSDL Codebase"
   ]
  },
  {
   "cell_type": "code",
   "execution_count": 39,
   "id": "531ee2be",
   "metadata": {},
   "outputs": [
    {
     "name": "stdout",
     "output_type": "stream",
     "text": [
      "__init__.py  __pycache__  base.py\r\n"
     ]
    }
   ],
   "source": [
    "!ls text_recognizer/lit_models"
   ]
  },
  {
   "cell_type": "code",
   "execution_count": 40,
   "id": "5571f7ff",
   "metadata": {},
   "outputs": [
    {
     "name": "stdout",
     "output_type": "stream",
     "text": [
      "lightning_logs\tnotebooks  text_recognizer\r\n"
     ]
    }
   ],
   "source": [
    "!ls"
   ]
  },
  {
   "cell_type": "code",
   "execution_count": 41,
   "id": "20242329",
   "metadata": {},
   "outputs": [
    {
     "name": "stdout",
     "output_type": "stream",
     "text": [
      "__init__.py  run_experiment.py\tutil.py\r\n"
     ]
    }
   ],
   "source": [
    "!ls training"
   ]
  },
  {
   "cell_type": "code",
   "execution_count": 43,
   "id": "c00aaeab",
   "metadata": {},
   "outputs": [
    {
     "name": "stdout",
     "output_type": "stream",
     "text": [
      "Experiment-running framework. \n",
      "    Run an experiment.\n",
      "    Sample command:\n",
      "    ```\n",
      "    python training/run_experiment.py --max_epochs=3 --gpus='0,' --num_workers=20 --model_class=MLP --data_class=MNIST\n",
      "    ```\n",
      "    For basic help documentation, run the command\n",
      "    ```\n",
      "    python training/run_experiment.py --help\n",
      "    ```\n",
      "    The available command line args differ depending on some of the arguments, including --model_class and --data_class.\n",
      "    To see which command line args are available and read their documentation, provide values for those arguments\n",
      "    before invoking --help, like so:\n",
      "    ```\n",
      "    python training/run_experiment.py --model_class=MLP --data_class=MNIST --help\n",
      "    \n"
     ]
    }
   ],
   "source": [
    "import training.run_experiment\n",
    "\n",
    "print(training.run_experiment.__doc__, training.run_experiment.main.__doc__)"
   ]
  },
  {
   "cell_type": "code",
   "execution_count": 44,
   "id": "8e7ff79e",
   "metadata": {},
   "outputs": [
    {
     "name": "stdout",
     "output_type": "stream",
     "text": [
      "    trainer = pl.Trainer.from_argparse_args(args, callbacks=callbacks, logger=logger)\r\n"
     ]
    }
   ],
   "source": [
    "# how the trainer is initialized in the training script\n",
    "!grep \"pl.Trainer.from\" training/run_experiment.py"
   ]
  },
  {
   "cell_type": "code",
   "execution_count": 53,
   "id": "6f78fd25",
   "metadata": {},
   "outputs": [
    {
     "name": "stdout",
     "output_type": "stream",
     "text": [
      "pl.Trainer:\r\n",
      "  --logger [LOGGER]     Logger (or iterable collection of loggers) for\r\n",
      "                        experiment tracking. A ``True`` value uses the default\r\n",
      "                        ``TensorBoardLogger``. ``False`` will disable logging.\r\n",
      "                        If multiple loggers are provided and the `save_dir`\r\n",
      "                        property of that logger is not set, local files\r\n",
      "                        (checkpoints, profiler traces, etc.) are saved in\r\n",
      "                        ``default_root_dir`` rather than in the ``log_dir`` of\r\n",
      "                        any of the individual loggers. Default: ``True``.\r\n",
      "  --checkpoint_callback [CHECKPOINT_CALLBACK]\r\n",
      "                        If ``True``, enable checkpointing. Default: ``None``.\r\n",
      "                        .. deprecated:: v1.5 ``checkpoint_callback`` has been\r\n",
      "                        deprecated in v1.5 and will be removed in v1.7. Please\r\n",
      "                        consider using ``enable_checkpointing`` instead.\r\n",
      "  --enable_checkpointing [ENABLE_CHECKPOINTING]\r\n",
      "                        If ``True``, enable checkpointing. It will configure a\r\n",
      "                        default ModelCheckpoint callback if there is no user-\r\n",
      "                        defined ModelCheckpoint in :paramref:`~pytorch_lightni\r\n",
      "                        ng.trainer.trainer.Trainer.callbacks`. Default:\r\n",
      "                        ``True``.\r\n",
      "  --default_root_dir DEFAULT_ROOT_DIR\r\n",
      "                        Default path for logs and weights when no\r\n",
      "                        logger/ckpt_callback passed. Default: ``os.getcwd()``.\r\n",
      "                        Can be remote file paths such as `s3://mybucket/path`\r\n",
      "                        or 'hdfs://path/'\r\n"
     ]
    }
   ],
   "source": [
    "# displays the first few flags for controlling the Trainer from the command line\n",
    "!python training/run_experiment.py --help | grep \"pl.Trainer\" -A 24"
   ]
  },
  {
   "cell_type": "markdown",
   "id": "ba1be36c",
   "metadata": {},
   "source": [
    "### LightningDataModule"
   ]
  },
  {
   "cell_type": "code",
   "execution_count": 54,
   "id": "35fa665e",
   "metadata": {},
   "outputs": [
    {
     "name": "stdout",
     "output_type": "stream",
     "text": [
      "A DataModule standardizes the training, val, test splits, data preparation and transforms. The main\n",
      "    advantage is consistent data splits, data preparation and transforms across models.\n",
      "\n",
      "    Example::\n",
      "\n",
      "        class MyDataModule(LightningDataModule):\n",
      "            def __init__(self):\n",
      "                super().__init__()\n",
      "            def prepare_data(self):\n",
      "                # download, split, etc...\n",
      "                # only called on 1 GPU/TPU in distributed\n",
      "            def setup(self, stage):\n",
      "                # make assignments here (val/train/test split)\n",
      "                # called on every process in DDP\n",
      "            def train_dataloader(self):\n",
      "                train_split = Dataset(...)\n",
      "                return DataLoader(train_split)\n",
      "            def val_dataloader(self):\n",
      "                val_split = Dataset(...)\n",
      "                return DataLoader(val_split)\n",
      "            def test_dataloader(self):\n",
      "                test_split = Dataset(...)\n",
      "                return DataLoader(test_split)\n",
      "            def teardown(self):\n",
      "                # clean up after fit or test\n",
      "                # called on every process in DDP\n",
      "    \n"
     ]
    }
   ],
   "source": [
    "print(pl.LightningDataModule.__doc__)"
   ]
  },
  {
   "cell_type": "code",
   "execution_count": 55,
   "id": "872312d2",
   "metadata": {},
   "outputs": [],
   "source": [
    "import math\n",
    "\n",
    "\n",
    "class CorrelatedDataModule(pl.LightningDataModule):\n",
    "\n",
    "    def __init__(self, size=10_000, train_frac=0.8, batch_size=32):\n",
    "        super().__init__()  # again, mandatory superclass init, as with torch.nn.Modules\n",
    "\n",
    "        # set some constants, like the train/val split\n",
    "        self.size = size\n",
    "        self.train_frac, self.val_frac = train_frac, 1 - train_frac\n",
    "        self.train_indices = list(range(math.floor(self.size * train_frac)))\n",
    "        self.val_indices = list(range(self.train_indices[-1], self.size))\n",
    "\n",
    "        # under the hood, we've still got a torch Dataset\n",
    "        self.dataset = CorrelatedDataset(N=size)"
   ]
  },
  {
   "cell_type": "code",
   "execution_count": 56,
   "id": "d722a78e",
   "metadata": {},
   "outputs": [],
   "source": [
    "def setup(self, stage=None):  # prepares state that needs to be set for each GPU on each node\n",
    "    if stage == \"fit\" or stage is None:  # other stages: \"test\", \"predict\"\n",
    "        self.train_dataset = torch.utils.data.Subset(self.dataset, self.train_indices)\n",
    "        self.val_dataset = torch.utils.data.Subset(self.dataset, self.val_indices)\n",
    "\n",
    "def prepare_data(self):  # prepares state that needs to be set once per node\n",
    "    pass  # but we don't have any \"node-level\" computations\n",
    "\n",
    "\n",
    "CorrelatedDataModule.setup, CorrelatedDataModule.prepare_data = setup, prepare_data"
   ]
  },
  {
   "cell_type": "code",
   "execution_count": 57,
   "id": "d78b2e41",
   "metadata": {},
   "outputs": [],
   "source": [
    "def train_dataloader(self: pl.LightningDataModule) -> torch.utils.data.DataLoader:\n",
    "    return torch.utils.data.DataLoader(self.train_dataset, batch_size=32)\n",
    "\n",
    "def val_dataloader(self: pl.LightningDataModule) -> torch.utils.data.DataLoader:\n",
    "    return torch.utils.data.DataLoader(self.val_dataset, batch_size=32)\n",
    "\n",
    "CorrelatedDataModule.train_dataloader, CorrelatedDataModule.val_dataloader = train_dataloader, val_dataloader"
   ]
  },
  {
   "cell_type": "code",
   "execution_count": 58,
   "id": "6ee007ed",
   "metadata": {},
   "outputs": [
    {
     "name": "stderr",
     "output_type": "stream",
     "text": [
      "GPU available: True, used: True\n",
      "TPU available: False, using: 0 TPU cores\n",
      "IPU available: False, using: 0 IPUs\n",
      "HPU available: False, using: 0 HPUs\n",
      "/home/jobquiroz/miniconda3/envs/fsdl-text-recognizer-2022/lib/python3.7/site-packages/pytorch_lightning/trainer/configuration_validator.py:131: UserWarning: You passed in a `val_dataloader` but have no `validation_step`. Skipping val loop.\n",
      "  rank_zero_warn(\"You passed in a `val_dataloader` but have no `validation_step`. Skipping val loop.\")\n",
      "LOCAL_RANK: 0 - CUDA_VISIBLE_DEVICES: [0]\n",
      "\n",
      "  | Name  | Type   | Params\n",
      "---------------------------------\n",
      "0 | model | Linear | 2     \n",
      "---------------------------------\n",
      "2         Trainable params\n",
      "0         Non-trainable params\n",
      "2         Total params\n",
      "0.000     Total estimated model params size (MB)\n"
     ]
    },
    {
     "name": "stdout",
     "output_type": "stream",
     "text": [
      "loss before training: 1.7290900945663452\n"
     ]
    },
    {
     "data": {
      "application/vnd.jupyter.widget-view+json": {
       "model_id": "68da3a17968642c69d844969ac7f07fc",
       "version_major": 2,
       "version_minor": 0
      },
      "text/plain": [
       "Training: 0it [00:00, ?it/s]"
      ]
     },
     "metadata": {},
     "output_type": "display_data"
    },
    {
     "name": "stdout",
     "output_type": "stream",
     "text": [
      "loss after training: 1.0625207424163818\n"
     ]
    }
   ],
   "source": [
    "model = LinearRegression()\n",
    "datamodule = CorrelatedDataModule()\n",
    "\n",
    "dataset = datamodule.dataset\n",
    "\n",
    "print(\"loss before training:\", torch.mean(torch.square(model(dataset.xs) - dataset.ys)).item())\n",
    "\n",
    "trainer = pl.Trainer(max_epochs=10, gpus=int(torch.cuda.is_available()))\n",
    "trainer.fit(model=model, datamodule=datamodule)\n",
    "\n",
    "print(\"loss after training:\", torch.mean(torch.square(model(dataset.xs) - dataset.ys)).item())"
   ]
  },
  {
   "cell_type": "markdown",
   "id": "b7908b70",
   "metadata": {},
   "source": [
    "## `pl.CallBack`\n"
   ]
  },
  {
   "cell_type": "code",
   "execution_count": 59,
   "id": "f50110ab",
   "metadata": {},
   "outputs": [
    {
     "data": {
      "text/plain": [
       "['BackboneFinetuning',\n",
       " 'BaseFinetuning',\n",
       " 'Callback',\n",
       " 'DeviceStatsMonitor',\n",
       " 'EarlyStopping',\n",
       " 'GPUStatsMonitor',\n",
       " 'XLAStatsMonitor',\n",
       " 'GradientAccumulationScheduler',\n",
       " 'LambdaCallback',\n",
       " 'LearningRateMonitor',\n",
       " 'ModelCheckpoint',\n",
       " 'ModelPruning',\n",
       " 'ModelSummary',\n",
       " 'BasePredictionWriter',\n",
       " 'ProgressBar',\n",
       " 'ProgressBarBase',\n",
       " 'QuantizationAwareTraining',\n",
       " 'RichModelSummary',\n",
       " 'RichProgressBar',\n",
       " 'StochasticWeightAveraging',\n",
       " 'Timer',\n",
       " 'TQDMProgressBar']"
      ]
     },
     "execution_count": 59,
     "metadata": {},
     "output_type": "execute_result"
    }
   ],
   "source": [
    "pl.callbacks.__all__  # builtin Callbacks from Lightning"
   ]
  },
  {
   "cell_type": "code",
   "execution_count": 60,
   "id": "5f34f245",
   "metadata": {},
   "outputs": [
    {
     "name": "stdout",
     "output_type": "stream",
     "text": [
      "hooks:\n",
      "\ton_after_backward, on_batch_end, on_batch_start,\n",
      "\ton_before_accelerator_backend_setup, on_before_backward,\n",
      "\ton_before_optimizer_step, on_before_zero_grad, on_configure_sharded_model,\n",
      "\ton_epoch_end, on_epoch_start, on_exception, on_fit_end, on_fit_start,\n",
      "\ton_init_end, on_init_start, on_keyboard_interrupt, on_load_checkpoint,\n",
      "\ton_predict_batch_end, on_predict_batch_start, on_predict_end,\n",
      "\ton_predict_epoch_end, on_predict_epoch_start, on_predict_start,\n",
      "\ton_pretrain_routine_end, on_pretrain_routine_start, on_sanity_check_end,\n",
      "\ton_sanity_check_start, on_save_checkpoint, on_test_batch_end,\n",
      "\ton_test_batch_start, on_test_end, on_test_epoch_end, on_test_epoch_start,\n",
      "\ton_test_start, on_train_batch_end, on_train_batch_start, on_train_end,\n",
      "\ton_train_epoch_end, on_train_epoch_start, on_train_start,\n",
      "\ton_validation_batch_end, on_validation_batch_start, on_validation_end,\n",
      "\ton_validation_epoch_end, on_validation_epoch_start, on_validation_start\n"
     ]
    }
   ],
   "source": [
    "hooks = \", \".join([method for method in dir(pl.Callback) if method.startswith(\"on_\")])\n",
    "print(\"hooks:\", *textwrap.wrap(hooks, width=80), sep=\"\\n\\t\")"
   ]
  },
  {
   "cell_type": "markdown",
   "id": "1545144d",
   "metadata": {},
   "source": [
    "Sill Callback"
   ]
  },
  {
   "cell_type": "code",
   "execution_count": 61,
   "id": "2e91114e",
   "metadata": {},
   "outputs": [],
   "source": [
    "class HelloWorldCallback(pl.Callback):\n",
    "\n",
    "    def on_train_epoch_start(self, trainer: pl.Trainer, pl_module: pl.LightningModule):\n",
    "        print(\"👋 hello from the start of the training epoch!\")\n",
    "\n",
    "    def on_validation_epoch_end(self, trainer: pl.Trainer, pl_module: pl.LightningModule):\n",
    "        print(\"👋 hello from the end of the validation epoch!\")"
   ]
  },
  {
   "cell_type": "code",
   "execution_count": 68,
   "id": "972d94a7",
   "metadata": {},
   "outputs": [],
   "source": [
    "import random\n",
    "\n",
    "\n",
    "def on_train_batch_start(self, trainer: pl.Trainer, pl_module: pl.LightningModule, batch: Tuple[torch.Tensor, torch.Tensor], batch_idx: int):\n",
    "        if random.random() > 0.995:\n",
    "            print(f\"👋 hello from inside the lucky batch, #{batch_idx}!\")\n",
    "\n",
    "\n",
    "HelloWorldCallback.on_train_batch_start = on_train_batch_start"
   ]
  },
  {
   "cell_type": "code",
   "execution_count": 69,
   "id": "620904f7",
   "metadata": {},
   "outputs": [
    {
     "name": "stderr",
     "output_type": "stream",
     "text": [
      "GPU available: True, used: True\n",
      "TPU available: False, using: 0 TPU cores\n",
      "IPU available: False, using: 0 IPUs\n",
      "HPU available: False, using: 0 HPUs\n"
     ]
    }
   ],
   "source": [
    "model = LinearRegression()\n",
    "\n",
    "datamodule = CorrelatedDataModule()\n",
    "\n",
    "trainer = pl.Trainer(  # we instantiate and provide the callback here, but nothing happens yet\n",
    "    max_epochs=10, gpus=int(torch.cuda.is_available()), callbacks=[HelloWorldCallback()])"
   ]
  },
  {
   "cell_type": "code",
   "execution_count": 70,
   "id": "c37d37c4",
   "metadata": {},
   "outputs": [
    {
     "name": "stderr",
     "output_type": "stream",
     "text": [
      "LOCAL_RANK: 0 - CUDA_VISIBLE_DEVICES: [0]\n",
      "\n",
      "  | Name  | Type   | Params\n",
      "---------------------------------\n",
      "0 | model | Linear | 2     \n",
      "---------------------------------\n",
      "2         Trainable params\n",
      "0         Non-trainable params\n",
      "2         Total params\n",
      "0.000     Total estimated model params size (MB)\n"
     ]
    },
    {
     "data": {
      "application/vnd.jupyter.widget-view+json": {
       "model_id": "44f28579ae47420bbd8a0fcfce866188",
       "version_major": 2,
       "version_minor": 0
      },
      "text/plain": [
       "Training: 0it [00:00, ?it/s]"
      ]
     },
     "metadata": {},
     "output_type": "display_data"
    },
    {
     "name": "stdout",
     "output_type": "stream",
     "text": [
      "👋 hello from the start of the training epoch!\n",
      "👋 hello from inside the lucky batch, #134!\n",
      "👋 hello from the start of the training epoch!\n",
      "👋 hello from inside the lucky batch, #130!\n",
      "👋 hello from inside the lucky batch, #187!\n",
      "👋 hello from inside the lucky batch, #220!\n",
      "👋 hello from the start of the training epoch!\n",
      "👋 hello from the start of the training epoch!\n",
      "👋 hello from inside the lucky batch, #231!\n",
      "👋 hello from the start of the training epoch!\n",
      "👋 hello from inside the lucky batch, #96!\n",
      "👋 hello from inside the lucky batch, #236!\n",
      "👋 hello from the start of the training epoch!\n",
      "👋 hello from inside the lucky batch, #143!\n",
      "👋 hello from the start of the training epoch!\n",
      "👋 hello from inside the lucky batch, #56!\n",
      "👋 hello from inside the lucky batch, #79!\n",
      "👋 hello from inside the lucky batch, #173!\n",
      "👋 hello from the start of the training epoch!\n",
      "👋 hello from inside the lucky batch, #205!\n",
      "👋 hello from the start of the training epoch!\n",
      "👋 hello from the start of the training epoch!\n"
     ]
    }
   ],
   "source": [
    "trainer.fit(model=model, datamodule=datamodule)"
   ]
  },
  {
   "cell_type": "markdown",
   "id": "d3c867c6",
   "metadata": {},
   "source": [
    "### `torchmetrics`"
   ]
  },
  {
   "cell_type": "code",
   "execution_count": 72,
   "id": "6fcd1ada",
   "metadata": {},
   "outputs": [
    {
     "name": "stdout",
     "output_type": "stream",
     "text": [
      "metrics:\n",
      "\tfunctional, Accuracy, AUC, AUROC, AveragePrecision, BinnedAveragePrecision,\n",
      "\tBinnedPrecisionRecallCurve, BinnedRecallAtFixedPrecision, BLEUScore,\n",
      "\tBootStrapper, CalibrationError, CatMetric, CHRFScore, CohenKappa,\n",
      "\tConfusionMatrix, CosineSimilarity, TweedieDevianceScore, ExplainedVariance,\n",
      "\tExtendedEditDistance, F1, F1Score, FBeta, FBetaScore, HammingDistance, Hinge,\n",
      "\tHingeLoss, JaccardIndex, KLDivergence, MatthewsCorrcoef, MatthewsCorrCoef,\n",
      "\tMaxMetric, MeanAbsoluteError, MeanAbsolutePercentageError, MeanMetric,\n",
      "\tMeanSquaredError, MeanSquaredLogError, Metric, MetricCollection, MetricTracker,\n",
      "\tMinMaxMetric, MinMetric, MultioutputWrapper,\n",
      "\tMultiScaleStructuralSimilarityIndexMeasure, PearsonCorrcoef, PearsonCorrCoef,\n",
      "\tPermutationInvariantTraining, PIT, Precision, PrecisionRecallCurve, PSNR,\n",
      "\tPeakSignalNoiseRatio, R2Score, Recall, RetrievalFallOut, RetrievalHitRate,\n",
      "\tRetrievalMAP, RetrievalMRR, RetrievalNormalizedDCG, RetrievalPrecision,\n",
      "\tRetrievalRecall, RetrievalRPrecision, ROC, SacreBLEUScore, SDR,\n",
      "\tSignalDistortionRatio, ScaleInvariantSignalDistortionRatio, SI_SDR, SI_SNR,\n",
      "\tScaleInvariantSignalNoiseRatio, SignalNoiseRatio, SNR, SpearmanCorrcoef,\n",
      "\tSpearmanCorrCoef, Specificity, SQuAD, SSIM, StructuralSimilarityIndexMeasure,\n",
      "\tStatScores, SumMetric, SymmetricMeanAbsolutePercentageError,\n",
      "\tTranslationEditRate, WER, WordErrorRate, CharErrorRate, MatchErrorRate,\n",
      "\tWordInfoLost, WordInfoPreserved\n"
     ]
    }
   ],
   "source": [
    "import torchmetrics\n",
    "\n",
    "tm_version = torchmetrics.__version__\n",
    "print(\"metrics:\", *textwrap.wrap(\", \".join(torchmetrics.__all__), width=80), sep=\"\\n\\t\")"
   ]
  },
  {
   "cell_type": "code",
   "execution_count": 73,
   "id": "dc351228",
   "metadata": {},
   "outputs": [
    {
     "data": {
      "text/plain": [
       "True"
      ]
     },
     "execution_count": 73,
     "metadata": {},
     "output_type": "execute_result"
    }
   ],
   "source": [
    "issubclass(torchmetrics.Metric, torch.nn.Module)"
   ]
  },
  {
   "cell_type": "code",
   "execution_count": 74,
   "id": "fffbbb0d",
   "metadata": {},
   "outputs": [],
   "source": [
    "BaseLitModel.__init__??"
   ]
  },
  {
   "cell_type": "code",
   "execution_count": null,
   "id": "f53000e9",
   "metadata": {},
   "outputs": [],
   "source": []
  }
 ],
 "metadata": {
  "kernelspec": {
   "display_name": "Python 3",
   "language": "python",
   "name": "python3"
  },
  "language_info": {
   "codemirror_mode": {
    "name": "ipython",
    "version": 3
   },
   "file_extension": ".py",
   "mimetype": "text/x-python",
   "name": "python",
   "nbconvert_exporter": "python",
   "pygments_lexer": "ipython3",
   "version": "3.7.13"
  }
 },
 "nbformat": 4,
 "nbformat_minor": 5
}
