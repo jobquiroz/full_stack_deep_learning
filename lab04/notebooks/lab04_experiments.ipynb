{
 "cells": [
  {
   "cell_type": "code",
   "execution_count": 1,
   "id": "06c81e14",
   "metadata": {},
   "outputs": [
    {
     "data": {
      "text/plain": [
       "'/home/jobquiroz/full_stack_deep_learning/lab04/notebooks'"
      ]
     },
     "execution_count": 1,
     "metadata": {},
     "output_type": "execute_result"
    }
   ],
   "source": [
    "# Fixing path\n",
    "import os\n",
    "\n",
    "os.getcwd()   # Verify where it is right now..."
   ]
  },
  {
   "cell_type": "code",
   "execution_count": 2,
   "id": "13d98e14",
   "metadata": {},
   "outputs": [],
   "source": [
    "# Solution, go to lab directory:\n",
    "os.chdir('/home/jobquiroz/full_stack_deep_learning/lab04/')"
   ]
  },
  {
   "cell_type": "code",
   "execution_count": 3,
   "id": "052ab8ff",
   "metadata": {},
   "outputs": [
    {
     "data": {
      "text/html": [
       "<style>.container { width:100% !important; }</style>"
      ],
      "text/plain": [
       "<IPython.core.display.HTML object>"
      ]
     },
     "metadata": {},
     "output_type": "display_data"
    },
    {
     "data": {
      "text/html": [
       "<style>.output_result { max-width:100% !important; }</style>"
      ],
      "text/plain": [
       "<IPython.core.display.HTML object>"
      ]
     },
     "metadata": {},
     "output_type": "display_data"
    }
   ],
   "source": [
    "from IPython.display import display, HTML, IFrame\n",
    "\n",
    "full_width = True\n",
    "frame_height = 720  # adjust for your screen\n",
    "\n",
    "if full_width:  # if we want the notebook to take up the whole width\n",
    "    # add styling to the notebook's HTML directly\n",
    "    display(HTML(\"<style>.container { width:100% !important; }</style>\"))\n",
    "    display(HTML(\"<style>.output_result { max-width:100% !important; }</style>\"))"
   ]
  },
  {
   "cell_type": "code",
   "execution_count": 4,
   "id": "d91f726d",
   "metadata": {},
   "outputs": [
    {
     "name": "stdout",
     "output_type": "stream",
     "text": [
      "A dataset of images of handwritten text written on a form underneath a typewritten prompt.\n",
      "\n",
      "    \"The IAM Lines dataset, first published at the ICDAR 1999, contains forms of unconstrained handwritten text,\n",
      "    which were scanned at a resolution of 300dpi and saved as PNG images with 256 gray levels.\"\n",
      "    From http://www.fki.inf.unibe.ch/databases/iam-handwriting-database\n",
      "\n",
      "    Images are identified by their \"form ID\". These IDs are used to separate train, validation and test splits,\n",
      "    as keys for dictonaries returning label and image crop region data, and more.\n",
      "\n",
      "    The data split we will use is\n",
      "    IAM lines Large Writer Independent Text Line Recognition Task (LWITLRT): 9,862 text lines.\n",
      "        The validation set has been merged into the train set.\n",
      "        The train set has 7,101 lines from 326 writers.\n",
      "        The test set has 1,861 lines from 128 writers.\n",
      "        The text lines of all data sets are mutually exclusive, thus each writer has contributed to one set only.\n",
      "    \n"
     ]
    }
   ],
   "source": [
    "from text_recognizer.data.iam import IAM  # base dataset of images of handwritten text\n",
    "from text_recognizer.data import IAMLines  # processed version split into individual lines\n",
    "from text_recognizer.models import LineCNNTransformer  # simple CNN encoder / Transformer decoder\n",
    "\n",
    "print(IAM.__doc__)\n",
    "\n",
    "# uncomment a line below for details on either class\n",
    "# IAMLines??  \n",
    "# LineCNNTransformer??"
   ]
  },
  {
   "cell_type": "markdown",
   "id": "f9c0e354",
   "metadata": {},
   "source": [
    "The cell below will train a model on 10% of the data for two epochs.\n",
    "\n",
    "It takes up to a few minutes to run on commodity hardware, including data download and preprocessing. As it's running, continue reading below."
   ]
  },
  {
   "cell_type": "code",
   "execution_count": 5,
   "id": "c660cc61",
   "metadata": {},
   "outputs": [
    {
     "name": "stderr",
     "output_type": "stream",
     "text": [
      "Trainer already configured with model summary callbacks: [<class 'pytorch_lightning.callbacks.model_summary.ModelSummary'>]. Skipping setting a default `ModelSummary` callback.\n",
      "GPU available: True, used: True\n",
      "TPU available: False, using: 0 TPU cores\n",
      "IPU available: False, using: 0 IPUs\n",
      "HPU available: False, using: 0 HPUs\n",
      "LOCAL_RANK: 0 - CUDA_VISIBLE_DEVICES: [0]\n",
      "\n",
      "   | Name                      | Type               | Params\n",
      "------------------------------------------------------------------\n",
      "0  | model                     | LineCNNTransformer | 4.3 M \n",
      "1  | model.line_cnn            | LineCNN            | 1.6 M \n",
      "2  | model.embedding           | Embedding          | 21.2 K\n",
      "3  | model.fc                  | Linear             | 21.3 K\n",
      "4  | model.pos_encoder         | PositionalEncoding | 0     \n",
      "5  | model.transformer_decoder | TransformerDecoder | 2.6 M \n",
      "6  | train_acc                 | Accuracy           | 0     \n",
      "7  | val_acc                   | Accuracy           | 0     \n",
      "8  | test_acc                  | Accuracy           | 0     \n",
      "9  | val_cer                   | CharacterErrorRate | 0     \n",
      "10 | test_cer                  | CharacterErrorRate | 0     \n",
      "11 | loss_fn                   | CrossEntropyLoss   | 0     \n",
      "------------------------------------------------------------------\n",
      "4.3 M     Trainable params\n",
      "0         Non-trainable params\n",
      "4.3 M     Total params\n",
      "17.189    Total estimated model params size (MB)\n"
     ]
    },
    {
     "name": "stdout",
     "output_type": "stream",
     "text": [
      "Model State Dict Disk Size: 17.23 MB\n"
     ]
    },
    {
     "data": {
      "application/vnd.jupyter.widget-view+json": {
       "model_id": "",
       "version_major": 2,
       "version_minor": 0
      },
      "text/plain": [
       "Sanity Checking: 0it [00:00, ?it/s]"
      ]
     },
     "metadata": {},
     "output_type": "display_data"
    },
    {
     "data": {
      "application/vnd.jupyter.widget-view+json": {
       "model_id": "4236db25b8594ee994f9a867773b2879",
       "version_major": 2,
       "version_minor": 0
      },
      "text/plain": [
       "Training: 0it [00:00, ?it/s]"
      ]
     },
     "metadata": {},
     "output_type": "display_data"
    },
    {
     "data": {
      "application/vnd.jupyter.widget-view+json": {
       "model_id": "",
       "version_major": 2,
       "version_minor": 0
      },
      "text/plain": [
       "Validation: 0it [00:00, ?it/s]"
      ]
     },
     "metadata": {},
     "output_type": "display_data"
    },
    {
     "data": {
      "application/vnd.jupyter.widget-view+json": {
       "model_id": "",
       "version_major": 2,
       "version_minor": 0
      },
      "text/plain": [
       "Validation: 0it [00:00, ?it/s]"
      ]
     },
     "metadata": {},
     "output_type": "display_data"
    },
    {
     "name": "stderr",
     "output_type": "stream",
     "text": [
      "LOCAL_RANK: 0 - CUDA_VISIBLE_DEVICES: [0]\n"
     ]
    },
    {
     "data": {
      "application/vnd.jupyter.widget-view+json": {
       "model_id": "4d22e318afd54e86bb5049305c59b9f5",
       "version_major": 2,
       "version_minor": 0
      },
      "text/plain": [
       "Testing: 0it [00:00, ?it/s]"
      ]
     },
     "metadata": {},
     "output_type": "display_data"
    },
    {
     "name": "stderr",
     "output_type": "stream",
     "text": [
      "Best model saved at: /home/jobquiroz/full_stack_deep_learning/lab04/training/logs/lightning_logs/version_5/epoch=0000-validation.loss=3.127-validation.cer=1.893.ckpt\n"
     ]
    },
    {
     "name": "stdout",
     "output_type": "stream",
     "text": [
      "──────────────────────────────────────────────────────────────────────────────────────────────────────────\n",
      "       Test metric             DataLoader 0\n",
      "──────────────────────────────────────────────────────────────────────────────────────────────────────────\n",
      "        test/cer             2.03977632522583\n",
      "        test/loss            3.238344192504883\n",
      "──────────────────────────────────────────────────────────────────────────────────────────────────────────\n",
      "CPU times: user 43.6 s, sys: 8.35 s, total: 52 s\n",
      "Wall time: 1min 2s\n"
     ]
    }
   ],
   "source": [
    "%%time\n",
    "import torch\n",
    "\n",
    "\n",
    "gpus = int(torch.cuda.is_available()) \n",
    "\n",
    "%run training/run_experiment.py --model_class LineCNNTransformer --data_class IAMLines \\\n",
    "  --loss transformer --batch_size 32 --gpus {gpus} --max_epochs 2 \\\n",
    "  --limit_train_batches 0.1 --limit_val_batches 0.1 --limit_test_batches 0.1 --log_every_n_steps 10"
   ]
  },
  {
   "cell_type": "markdown",
   "id": "9227a1b3",
   "metadata": {},
   "source": [
    "### TensorBoard"
   ]
  },
  {
   "cell_type": "code",
   "execution_count": 6,
   "id": "a5fec690",
   "metadata": {},
   "outputs": [],
   "source": [
    "# we use a sequence of bash commands to get the latest experiment's directory\n",
    "#  by hand, you can just copy and paste it from the terminal\n",
    "\n",
    "list_all_log_files = \"find training/logs/lightning_logs/\"  # find avoids issues ls has with \\n in filenames\n",
    "filter_to_folders = \"grep '_[0-9]*$'\"  # regex match on end of line\n",
    "sort_version_descending = \"sort -Vr\"  # uses \"version\" sorting (-V) and reverses (-r)\n",
    "take_first = \"head -n 1\"  # the first n elements, n=1"
   ]
  },
  {
   "cell_type": "code",
   "execution_count": 7,
   "id": "45b9c821",
   "metadata": {},
   "outputs": [
    {
     "data": {
      "text/plain": [
       "'training/logs/lightning_logs/version_5'"
      ]
     },
     "execution_count": 7,
     "metadata": {},
     "output_type": "execute_result"
    }
   ],
   "source": [
    "latest_log, = ! {list_all_log_files} | {filter_to_folders} | {sort_version_descending} | {take_first}\n",
    "latest_log"
   ]
  },
  {
   "cell_type": "code",
   "execution_count": 8,
   "id": "2ddc9912",
   "metadata": {},
   "outputs": [
    {
     "name": "stdout",
     "output_type": "stream",
     "text": [
      "total 99M\r\n",
      "-rw-r--r-- 1 jobquiroz jobquiroz  50M Aug 31 17:18 'epoch=0000-validation.loss=3.127-validation.cer=1.893.ckpt'\r\n",
      "-rw-r--r-- 1 jobquiroz jobquiroz  50M Aug 31 17:18 'epoch=0001-validation.loss=3.122-validation.cer=1.893.ckpt'\r\n",
      "-rw-r--r-- 1 jobquiroz jobquiroz 1.3K Aug 31 17:18  events.out.tfevents.1661966286.deep-learning.2945.0\r\n",
      "-rw-r--r-- 1 jobquiroz jobquiroz  176 Aug 31 17:18  events.out.tfevents.1661966332.deep-learning.2945.1\r\n",
      "-rw-r--r-- 1 jobquiroz jobquiroz    3 Aug 31 17:18  hparams.yaml\r\n"
     ]
    }
   ],
   "source": [
    "!ls -lh {latest_log}"
   ]
  },
  {
   "cell_type": "code",
   "execution_count": 9,
   "id": "d924f6ed",
   "metadata": {},
   "outputs": [],
   "source": [
    "%load_ext tensorboard"
   ]
  },
  {
   "cell_type": "code",
   "execution_count": 16,
   "id": "e80bda5d",
   "metadata": {},
   "outputs": [
    {
     "data": {
      "text/html": [
       "\n",
       "      <iframe id=\"tensorboard-frame-39d372c6f42d07f3\" width=\"100%\" height=\"800\" frameborder=\"0\">\n",
       "      </iframe>\n",
       "      <script>\n",
       "        (function() {\n",
       "          const frame = document.getElementById(\"tensorboard-frame-39d372c6f42d07f3\");\n",
       "          const url = new URL(\"/proxy/6006/\", window.location);\n",
       "          const port = 0;\n",
       "          if (port) {\n",
       "            url.port = port;\n",
       "          }\n",
       "          frame.src = url;\n",
       "        })();\n",
       "      </script>\n",
       "    "
      ],
      "text/plain": [
       "<IPython.core.display.HTML object>"
      ]
     },
     "metadata": {},
     "output_type": "display_data"
    }
   ],
   "source": [
    "# same command works in terminal, with \"{arguments}\" replaced with values or \"$VARIABLES\"\n",
    "\n",
    "port = 6006  # pick an open port on your machine\n",
    "host = \"0.0.0.0\" # allow connections from the internet\n",
    "                 #   watch out! make sure you turn TensorBoard off\n",
    "\n",
    "%tensorboard --logdir {latest_log} --port {port} --host {host}"
   ]
  },
  {
   "cell_type": "markdown",
   "id": "e3396f04",
   "metadata": {},
   "source": [
    "All lightning_logs:"
   ]
  },
  {
   "cell_type": "code",
   "execution_count": 17,
   "id": "0e794b64",
   "metadata": {},
   "outputs": [
    {
     "data": {
      "text/html": [
       "\n",
       "      <iframe id=\"tensorboard-frame-633c314a162498e3\" width=\"100%\" height=\"800\" frameborder=\"0\">\n",
       "      </iframe>\n",
       "      <script>\n",
       "        (function() {\n",
       "          const frame = document.getElementById(\"tensorboard-frame-633c314a162498e3\");\n",
       "          const url = new URL(\"/proxy/6007/\", window.location);\n",
       "          const port = 0;\n",
       "          if (port) {\n",
       "            url.port = port;\n",
       "          }\n",
       "          frame.src = url;\n",
       "        })();\n",
       "      </script>\n",
       "    "
      ],
      "text/plain": [
       "<IPython.core.display.HTML object>"
      ]
     },
     "metadata": {},
     "output_type": "display_data"
    }
   ],
   "source": [
    "%tensorboard --logdir training/logs/lightning_logs --port {port + 1} --host \"0.0.0.0\""
   ]
  },
  {
   "cell_type": "code",
   "execution_count": 18,
   "id": "feeddaf7",
   "metadata": {},
   "outputs": [],
   "source": [
    "import tensorboard.manager\n",
    "\n",
    "# get the process IDs for all tensorboard instances\n",
    "pids = [tb.pid for tb in tensorboard.manager.get_all()]\n",
    "\n",
    "done_with_tensorboard = False\n",
    "\n",
    "if done_with_tensorboard:\n",
    "    # kill processes\n",
    "    for pid in pids:\n",
    "        !kill {pid} 2> /dev/null\n",
    "        \n",
    "    # remove the temporary files that sometimes persist, see https://stackoverflow.com/a/59582163\n",
    "    !rm -rf {tensorboard.manager._get_info_dir()}"
   ]
  },
  {
   "cell_type": "markdown",
   "id": "1534551a",
   "metadata": {},
   "source": [
    "## W & B"
   ]
  },
  {
   "cell_type": "code",
   "execution_count": 9,
   "id": "1a08cc64",
   "metadata": {},
   "outputs": [
    {
     "name": "stdout",
     "output_type": "stream",
     "text": [
      "Use wandb to track machine learning work.\n",
      "\n",
      "The most commonly used functions/objects are:\n",
      "  - wandb.init — initialize a new run at the top of your training script\n",
      "  - wandb.config — track hyperparameters and metadata\n",
      "  - wandb.log — log metrics and media over time within your training loop\n",
      "\n",
      "For guides and examples, see https://docs.wandb.com/guides.\n",
      "\n",
      "For scripts and interactive notebooks, see https://github.com/wandb/examples.\n",
      "\n",
      "For reference documentation, see https://docs.wandb.com/ref/python.\n",
      "\n"
     ]
    }
   ],
   "source": [
    "import wandb\n",
    "\n",
    "print(wandb.__doc__)"
   ]
  },
  {
   "cell_type": "code",
   "execution_count": 10,
   "id": "f3b47677",
   "metadata": {},
   "outputs": [
    {
     "name": "stdout",
     "output_type": "stream",
     "text": [
      "    if args.wandb:\r\n",
      "        logger = pl.loggers.WandbLogger(log_model=\"all\", save_dir=str(log_dir), job_type=\"train\")\r\n",
      "        logger.watch(model, log_freq=max(100, args.log_every_n_steps))\r\n",
      "        logger.log_hyperparams(vars(args))\r\n",
      "        experiment_dir = logger.experiment.dir\r\n",
      "    callbacks += [cb.ModelSizeLogger(), cb.LearningRateMonitor()]\r\n"
     ]
    }
   ],
   "source": [
    "!grep \"args.wandb\" -A 5 training/run_experiment.py | head -n 6"
   ]
  },
  {
   "cell_type": "code",
   "execution_count": 11,
   "id": "c469c485",
   "metadata": {},
   "outputs": [],
   "source": [
    "from pytorch_lightning.loggers import WandbLogger\n",
    "\n",
    "\n",
    "WandbLogger??"
   ]
  },
  {
   "cell_type": "code",
   "execution_count": 12,
   "id": "059357fc",
   "metadata": {},
   "outputs": [
    {
     "name": "stdout",
     "output_type": "stream",
     "text": [
      "\u001b[34m\u001b[1mwandb\u001b[0m: Currently logged in as: \u001b[33mjobquiroz\u001b[0m. Use \u001b[1m`wandb login --relogin`\u001b[0m to force relogin\r\n"
     ]
    }
   ],
   "source": [
    "!wandb login"
   ]
  },
  {
   "cell_type": "code",
   "execution_count": 13,
   "id": "ab57aff7",
   "metadata": {},
   "outputs": [
    {
     "name": "stderr",
     "output_type": "stream",
     "text": [
      "\u001b[34m\u001b[1mwandb\u001b[0m: Currently logged in as: \u001b[33mjobquiroz\u001b[0m. Use \u001b[1m`wandb login --relogin`\u001b[0m to force relogin\n"
     ]
    },
    {
     "data": {
      "text/html": [
       "wandb version 0.13.2 is available!  To upgrade, please run:\n",
       " $ pip install wandb --upgrade"
      ],
      "text/plain": [
       "<IPython.core.display.HTML object>"
      ]
     },
     "metadata": {},
     "output_type": "display_data"
    },
    {
     "data": {
      "text/html": [
       "Tracking run with wandb version 0.12.17"
      ],
      "text/plain": [
       "<IPython.core.display.HTML object>"
      ]
     },
     "metadata": {},
     "output_type": "display_data"
    },
    {
     "data": {
      "text/html": [
       "Run data is saved locally in <code>training/logs/wandb/run-20220831_171856-1rp5c8fe</code>"
      ],
      "text/plain": [
       "<IPython.core.display.HTML object>"
      ]
     },
     "metadata": {},
     "output_type": "display_data"
    },
    {
     "data": {
      "text/html": [
       "Syncing run <strong><a href=\"https://wandb.ai/jobquiroz/full_stack_deep_learning-lab04/runs/1rp5c8fe\" target=\"_blank\">charmed-frog-3</a></strong> to <a href=\"https://wandb.ai/jobquiroz/full_stack_deep_learning-lab04\" target=\"_blank\">Weights & Biases</a> (<a href=\"https://wandb.me/run\" target=\"_blank\">docs</a>)<br/>"
      ],
      "text/plain": [
       "<IPython.core.display.HTML object>"
      ]
     },
     "metadata": {},
     "output_type": "display_data"
    },
    {
     "name": "stderr",
     "output_type": "stream",
     "text": [
      "\u001b[34m\u001b[1mwandb\u001b[0m: logging graph, to disable use `wandb.watch(log_graph=False)`\n",
      "Trainer already configured with model summary callbacks: [<class 'pytorch_lightning.callbacks.model_summary.ModelSummary'>]. Skipping setting a default `ModelSummary` callback.\n",
      "GPU available: True, used: True\n",
      "TPU available: False, using: 0 TPU cores\n",
      "IPU available: False, using: 0 IPUs\n",
      "HPU available: False, using: 0 HPUs\n",
      "LOCAL_RANK: 0 - CUDA_VISIBLE_DEVICES: [0]\n",
      "\n",
      "   | Name                      | Type               | Params\n",
      "------------------------------------------------------------------\n",
      "0  | model                     | LineCNNTransformer | 4.3 M \n",
      "1  | model.line_cnn            | LineCNN            | 1.6 M \n",
      "2  | model.embedding           | Embedding          | 21.2 K\n",
      "3  | model.fc                  | Linear             | 21.3 K\n",
      "4  | model.pos_encoder         | PositionalEncoding | 0     \n",
      "5  | model.transformer_decoder | TransformerDecoder | 2.6 M \n",
      "6  | train_acc                 | Accuracy           | 0     \n",
      "7  | val_acc                   | Accuracy           | 0     \n",
      "8  | test_acc                  | Accuracy           | 0     \n",
      "9  | val_cer                   | CharacterErrorRate | 0     \n",
      "10 | test_cer                  | CharacterErrorRate | 0     \n",
      "11 | loss_fn                   | CrossEntropyLoss   | 0     \n",
      "------------------------------------------------------------------\n",
      "4.3 M     Trainable params\n",
      "0         Non-trainable params\n",
      "4.3 M     Total params\n",
      "17.189    Total estimated model params size (MB)\n"
     ]
    },
    {
     "name": "stdout",
     "output_type": "stream",
     "text": [
      "Model State Dict Disk Size: 17.23 MB\n"
     ]
    },
    {
     "data": {
      "application/vnd.jupyter.widget-view+json": {
       "model_id": "",
       "version_major": 2,
       "version_minor": 0
      },
      "text/plain": [
       "Sanity Checking: 0it [00:00, ?it/s]"
      ]
     },
     "metadata": {},
     "output_type": "display_data"
    },
    {
     "data": {
      "application/vnd.jupyter.widget-view+json": {
       "model_id": "4e9c3add94f44f7ea5cf58e91f27008c",
       "version_major": 2,
       "version_minor": 0
      },
      "text/plain": [
       "Training: 0it [00:00, ?it/s]"
      ]
     },
     "metadata": {},
     "output_type": "display_data"
    },
    {
     "data": {
      "application/vnd.jupyter.widget-view+json": {
       "model_id": "",
       "version_major": 2,
       "version_minor": 0
      },
      "text/plain": [
       "Validation: 0it [00:00, ?it/s]"
      ]
     },
     "metadata": {},
     "output_type": "display_data"
    },
    {
     "data": {
      "application/vnd.jupyter.widget-view+json": {
       "model_id": "",
       "version_major": 2,
       "version_minor": 0
      },
      "text/plain": [
       "Validation: 0it [00:00, ?it/s]"
      ]
     },
     "metadata": {},
     "output_type": "display_data"
    },
    {
     "data": {
      "application/vnd.jupyter.widget-view+json": {
       "model_id": "",
       "version_major": 2,
       "version_minor": 0
      },
      "text/plain": [
       "Validation: 0it [00:00, ?it/s]"
      ]
     },
     "metadata": {},
     "output_type": "display_data"
    },
    {
     "data": {
      "application/vnd.jupyter.widget-view+json": {
       "model_id": "",
       "version_major": 2,
       "version_minor": 0
      },
      "text/plain": [
       "Validation: 0it [00:00, ?it/s]"
      ]
     },
     "metadata": {},
     "output_type": "display_data"
    },
    {
     "data": {
      "application/vnd.jupyter.widget-view+json": {
       "model_id": "",
       "version_major": 2,
       "version_minor": 0
      },
      "text/plain": [
       "Validation: 0it [00:00, ?it/s]"
      ]
     },
     "metadata": {},
     "output_type": "display_data"
    },
    {
     "data": {
      "application/vnd.jupyter.widget-view+json": {
       "model_id": "",
       "version_major": 2,
       "version_minor": 0
      },
      "text/plain": [
       "Validation: 0it [00:00, ?it/s]"
      ]
     },
     "metadata": {},
     "output_type": "display_data"
    },
    {
     "data": {
      "application/vnd.jupyter.widget-view+json": {
       "model_id": "",
       "version_major": 2,
       "version_minor": 0
      },
      "text/plain": [
       "Validation: 0it [00:00, ?it/s]"
      ]
     },
     "metadata": {},
     "output_type": "display_data"
    },
    {
     "data": {
      "application/vnd.jupyter.widget-view+json": {
       "model_id": "",
       "version_major": 2,
       "version_minor": 0
      },
      "text/plain": [
       "Validation: 0it [00:00, ?it/s]"
      ]
     },
     "metadata": {},
     "output_type": "display_data"
    },
    {
     "data": {
      "application/vnd.jupyter.widget-view+json": {
       "model_id": "",
       "version_major": 2,
       "version_minor": 0
      },
      "text/plain": [
       "Validation: 0it [00:00, ?it/s]"
      ]
     },
     "metadata": {},
     "output_type": "display_data"
    },
    {
     "data": {
      "application/vnd.jupyter.widget-view+json": {
       "model_id": "",
       "version_major": 2,
       "version_minor": 0
      },
      "text/plain": [
       "Validation: 0it [00:00, ?it/s]"
      ]
     },
     "metadata": {},
     "output_type": "display_data"
    },
    {
     "name": "stderr",
     "output_type": "stream",
     "text": [
      "LOCAL_RANK: 0 - CUDA_VISIBLE_DEVICES: [0]\n"
     ]
    },
    {
     "data": {
      "application/vnd.jupyter.widget-view+json": {
       "model_id": "decd6bcc0366484e9c5170849820217a",
       "version_major": 2,
       "version_minor": 0
      },
      "text/plain": [
       "Testing: 0it [00:00, ?it/s]"
      ]
     },
     "metadata": {},
     "output_type": "display_data"
    },
    {
     "name": "stderr",
     "output_type": "stream",
     "text": [
      "Best model saved at: /home/jobquiroz/full_stack_deep_learning/lab04/training/logs/lightning_logs/version_6/epoch=0006-validation.loss=2.467-validation.cer=0.863.ckpt\n",
      "Best model also uploaded to W&B \n"
     ]
    },
    {
     "name": "stdout",
     "output_type": "stream",
     "text": [
      "────────────────────────────────────────────────────────────────────────────────────────\n",
      "       Test metric             DataLoader 0\n",
      "────────────────────────────────────────────────────────────────────────────────────────\n",
      "        test/cer            0.9909008145332336\n",
      "        test/loss           2.4565465450286865\n",
      "────────────────────────────────────────────────────────────────────────────────────────\n"
     ]
    },
    {
     "data": {
      "text/html": [
       "Waiting for W&B process to finish... <strong style=\"color:green\">(success).</strong>"
      ],
      "text/plain": [
       "<IPython.core.display.HTML object>"
      ]
     },
     "metadata": {},
     "output_type": "display_data"
    },
    {
     "data": {
      "application/vnd.jupyter.widget-view+json": {
       "model_id": "",
       "version_major": 2,
       "version_minor": 0
      },
      "text/plain": [
       "VBox(children=(Label(value='477.423 MB of 477.423 MB uploaded (0.000 MB deduped)\\r'), FloatProgress(value=1.0,…"
      ]
     },
     "metadata": {},
     "output_type": "display_data"
    },
    {
     "data": {
      "text/html": [
       "<style>\n",
       "    table.wandb td:nth-child(1) { padding: 0 10px; text-align: left ; width: auto;} td:nth-child(2) {text-align: left ; width: 100%}\n",
       "    .wandb-row { display: flex; flex-direction: row; flex-wrap: wrap; justify-content: flex-start; width: 100% }\n",
       "    .wandb-col { display: flex; flex-direction: column; flex-basis: 100%; flex: 1; padding: 10px; }\n",
       "    </style>\n",
       "<div class=\"wandb-row\"><div class=\"wandb-col\"><h3>Run history:</h3><br/><table class=\"wandb\"><tr><td>epoch</td><td>▁▁▁▂▂▂▂▂▂▂▂▃▃▃▃▄▄▄▄▅▅▅▅▅▅▅▅▆▆▆▆▇▇▇▇▇▇▇▇█</td></tr><tr><td>optimizer/lr-Adam</td><td>▁▁▁▁▁▁▁▁▁▁▁▁▁▁▁▁▁▁▁▁▁▁▁▁▁▁▁▁▁▁▁▁▁▁▁▁▁▁▁</td></tr><tr><td>size/mb_disk</td><td>▁</td></tr><tr><td>size/nparams</td><td>▁</td></tr><tr><td>test/cer</td><td>▁</td></tr><tr><td>test/loss</td><td>▁</td></tr><tr><td>train/loss</td><td>██▇▇▇▇▇▇▆▅▄▃▂▃▃▂▂▃▂▂▂▁▂▁▁▁▂▁▁</td></tr><tr><td>trainer/global_step</td><td>▁▁▁▁▂▂▂▂▂▃▃▃▃▃▄▄▄▄▄▄▅▅▅▅▅▆▆▆▆▆▇▇▇▇▇▇▇███</td></tr><tr><td>validation/cer</td><td>███▆▇▇▁▁▇▁</td></tr><tr><td>validation/loss</td><td>███▄▃▃▂▂▂▁</td></tr></table><br/></div><div class=\"wandb-col\"><h3>Run summary:</h3><br/><table class=\"wandb\"><tr><td>epoch</td><td>10</td></tr><tr><td>optimizer/lr-Adam</td><td>0.001</td></tr><tr><td>size/mb_disk</td><td>17.22701</td></tr><tr><td>size/nparams</td><td>4297331</td></tr><tr><td>test/cer</td><td>0.9909</td></tr><tr><td>test/loss</td><td>2.45655</td></tr><tr><td>train/loss</td><td>2.44501</td></tr><tr><td>trainer/global_step</td><td>290</td></tr><tr><td>validation/cer</td><td>0.91781</td></tr><tr><td>validation/loss</td><td>2.3235</td></tr></table><br/></div></div>"
      ],
      "text/plain": [
       "<IPython.core.display.HTML object>"
      ]
     },
     "metadata": {},
     "output_type": "display_data"
    },
    {
     "data": {
      "text/html": [
       "Synced <strong style=\"color:#cdcd00\">charmed-frog-3</strong>: <a href=\"https://wandb.ai/jobquiroz/full_stack_deep_learning-lab04/runs/1rp5c8fe\" target=\"_blank\">https://wandb.ai/jobquiroz/full_stack_deep_learning-lab04/runs/1rp5c8fe</a><br/>Synced 6 W&B file(s), 41 media file(s), 1329 artifact file(s) and 0 other file(s)"
      ],
      "text/plain": [
       "<IPython.core.display.HTML object>"
      ]
     },
     "metadata": {},
     "output_type": "display_data"
    },
    {
     "data": {
      "text/html": [
       "Find logs at: <code>training/logs/wandb/run-20220831_171856-1rp5c8fe/logs</code>"
      ],
      "text/plain": [
       "<IPython.core.display.HTML object>"
      ]
     },
     "metadata": {},
     "output_type": "display_data"
    },
    {
     "name": "stdout",
     "output_type": "stream",
     "text": [
      "CPU times: user 2min 42s, sys: 28.4 s, total: 3min 11s\n",
      "Wall time: 3min 25s\n"
     ]
    }
   ],
   "source": [
    "%%time\n",
    "\n",
    "%run training/run_experiment.py --model_class LineCNNTransformer --data_class IAMLines \\\n",
    "  --loss transformer --batch_size 32 --gpus {gpus} --max_epochs 10 \\\n",
    "  --log_every_n_steps 10 --wandb --limit_test_batches 0.1 \\\n",
    "  --limit_train_batches 0.1 --limit_val_batches 0.1\n",
    "    \n",
    "last_expt = wandb.run\n",
    "\n",
    "wandb.finish()  # necessary in this style of in-notebook experiment running, not necessary in CLI"
   ]
  },
  {
   "cell_type": "code",
   "execution_count": 14,
   "id": "65026319",
   "metadata": {},
   "outputs": [
    {
     "data": {
      "text/html": [
       "<button onClick=\"this.nextSibling.style.display='block';this.style.display='none';\">Display W&B run</button><iframe src=\"https://wandb.ai/jobquiroz/full_stack_deep_learning-lab04/runs/1rp5c8fe?jupyter=true\" style=\"border:none;width:100%;height:420px;display:none;\"></iframe>"
      ],
      "text/plain": [
       "<wandb.sdk.wandb_run.Run at 0x7f89255c2ed0>"
      ]
     },
     "execution_count": 14,
     "metadata": {},
     "output_type": "execute_result"
    }
   ],
   "source": [
    "last_expt"
   ]
  },
  {
   "cell_type": "markdown",
   "id": "0a881304",
   "metadata": {},
   "source": [
    "### Runs"
   ]
  },
  {
   "cell_type": "code",
   "execution_count": 15,
   "id": "fcbf9f5c",
   "metadata": {},
   "outputs": [
    {
     "name": "stdout",
     "output_type": "stream",
     "text": [
      "https://wandb.ai/jobquiroz/full_stack_deep_learning-lab04/runs/1rp5c8fe\n"
     ]
    },
    {
     "data": {
      "text/html": [
       "\n",
       "        <iframe\n",
       "            width=\"100%\"\n",
       "            height=\"720\"\n",
       "            src=\"https://wandb.ai/jobquiroz/full_stack_deep_learning-lab04/runs/1rp5c8fe\"\n",
       "            frameborder=\"0\"\n",
       "            allowfullscreen\n",
       "            \n",
       "        ></iframe>\n",
       "        "
      ],
      "text/plain": [
       "<IPython.lib.display.IFrame at 0x7f891eec8910>"
      ]
     },
     "execution_count": 15,
     "metadata": {},
     "output_type": "execute_result"
    }
   ],
   "source": [
    "print(last_expt.url)\n",
    "IFrame(last_expt.url, width=\"100%\", height=frame_height)"
   ]
  },
  {
   "cell_type": "code",
   "execution_count": 16,
   "id": "18aef3af",
   "metadata": {},
   "outputs": [
    {
     "name": "stdout",
     "output_type": "stream",
     "text": [
      "https://wandb.ai/jobquiroz/full_stack_deep_learning-lab04/artifacts/run_table/run-1rp5c8fe-trainpredictions/v0/files/train/predictions.table.json\n"
     ]
    },
    {
     "data": {
      "text/html": [
       "\n",
       "        <iframe\n",
       "            width=\"100%\"\n",
       "            height=\"720\"\n",
       "            src=\"https://wandb.ai/jobquiroz/full_stack_deep_learning-lab04/artifacts/run_table/run-1rp5c8fe-trainpredictions/v0/files/train/predictions.table.json\"\n",
       "            frameborder=\"0\"\n",
       "            allowfullscreen\n",
       "            \n",
       "        ></iframe>\n",
       "        "
      ],
      "text/plain": [
       "<IPython.lib.display.IFrame at 0x7f891eec8b10>"
      ]
     },
     "execution_count": 16,
     "metadata": {},
     "output_type": "execute_result"
    }
   ],
   "source": [
    "table_versions_url = last_expt.url.split(\"runs\")[0] + f\"artifacts/run_table/run-{last_expt.id}-trainpredictions/\"\n",
    "table_data_url = table_versions_url + \"v0/files/train/predictions.table.json\"\n",
    "\n",
    "print(table_data_url)\n",
    "IFrame(src=table_data_url, width=\"100%\", height=frame_height)"
   ]
  },
  {
   "cell_type": "code",
   "execution_count": 32,
   "id": "ed807b63",
   "metadata": {},
   "outputs": [],
   "source": [
    "from text_recognizer.callbacks.imtotext import ImageToTextTableLogger\n",
    "\n",
    "ImageToTextTableLogger??"
   ]
  },
  {
   "cell_type": "code",
   "execution_count": 33,
   "id": "dfb46779",
   "metadata": {},
   "outputs": [],
   "source": [
    "from text_recognizer.lit_models.base import BaseImageToTextLitModel\n",
    "\n",
    "BaseImageToTextLitModel.add_on_logged_batches??"
   ]
  },
  {
   "cell_type": "markdown",
   "id": "5a895607",
   "metadata": {},
   "source": [
    "I'm not done yet..."
   ]
  },
  {
   "cell_type": "markdown",
   "id": "65e83d8c",
   "metadata": {},
   "source": [
    "## Projects\n"
   ]
  },
  {
   "cell_type": "markdown",
   "id": "2debe62b",
   "metadata": {},
   "source": [
    "### Programmatic Access"
   ]
  },
  {
   "cell_type": "code",
   "execution_count": 17,
   "id": "1f60dd39",
   "metadata": {},
   "outputs": [
    {
     "data": {
      "text/plain": [
       "'jobquiroz'"
      ]
     },
     "execution_count": 17,
     "metadata": {},
     "output_type": "execute_result"
    }
   ],
   "source": [
    "last_expt.entity"
   ]
  },
  {
   "cell_type": "code",
   "execution_count": 18,
   "id": "23b245d9",
   "metadata": {},
   "outputs": [
    {
     "data": {
      "text/plain": [
       "'full_stack_deep_learning-lab04'"
      ]
     },
     "execution_count": 18,
     "metadata": {},
     "output_type": "execute_result"
    }
   ],
   "source": [
    "last_expt.project"
   ]
  },
  {
   "cell_type": "code",
   "execution_count": 19,
   "id": "e1c44cf8",
   "metadata": {},
   "outputs": [
    {
     "data": {
      "text/plain": [
       "'1rp5c8fe'"
      ]
     },
     "execution_count": 19,
     "metadata": {},
     "output_type": "execute_result"
    }
   ],
   "source": [
    "last_expt.id"
   ]
  },
  {
   "cell_type": "code",
   "execution_count": 20,
   "id": "b7bb147a",
   "metadata": {},
   "outputs": [],
   "source": [
    "wb_api = wandb.Api()"
   ]
  },
  {
   "cell_type": "code",
   "execution_count": 21,
   "id": "9fc15ca3",
   "metadata": {},
   "outputs": [
    {
     "data": {
      "text/html": [
       "<div>\n",
       "<style scoped>\n",
       "    .dataframe tbody tr th:only-of-type {\n",
       "        vertical-align: middle;\n",
       "    }\n",
       "\n",
       "    .dataframe tbody tr th {\n",
       "        vertical-align: top;\n",
       "    }\n",
       "\n",
       "    .dataframe thead th {\n",
       "        text-align: right;\n",
       "    }\n",
       "</style>\n",
       "<table border=\"1\" class=\"dataframe\">\n",
       "  <thead>\n",
       "    <tr style=\"text-align: right;\">\n",
       "      <th></th>\n",
       "      <th>trainer/global_step</th>\n",
       "      <th>_step</th>\n",
       "      <th>_runtime</th>\n",
       "      <th>size/nparams</th>\n",
       "      <th>size/mb_disk</th>\n",
       "      <th>_timestamp</th>\n",
       "      <th>validation/predictions</th>\n",
       "      <th>optimizer/lr-Adam</th>\n",
       "      <th>train/predictions</th>\n",
       "      <th>train/loss</th>\n",
       "      <th>...</th>\n",
       "      <th>gradients/transformer_decoder.layers.0.norm3.bias</th>\n",
       "      <th>gradients/transformer_decoder.layers.2.self_attn.in_proj_weight</th>\n",
       "      <th>gradients/transformer_decoder.layers.1.self_attn.in_proj_weight</th>\n",
       "      <th>gradients/transformer_decoder.layers.0.linear1.weight</th>\n",
       "      <th>gradients/line_cnn.convs.2.conv.weight</th>\n",
       "      <th>gradients/transformer_decoder.layers.1.norm3.weight</th>\n",
       "      <th>gradients/transformer_decoder.layers.1.self_attn.out_proj.weight</th>\n",
       "      <th>gradients/transformer_decoder.layers.1.norm2.weight</th>\n",
       "      <th>test/cer</th>\n",
       "      <th>test/loss</th>\n",
       "    </tr>\n",
       "  </thead>\n",
       "  <tbody>\n",
       "    <tr>\n",
       "      <th>0</th>\n",
       "      <td>-1</td>\n",
       "      <td>0</td>\n",
       "      <td>8</td>\n",
       "      <td>4297331.0</td>\n",
       "      <td>17.22701</td>\n",
       "      <td>1661966344</td>\n",
       "      <td>NaN</td>\n",
       "      <td>NaN</td>\n",
       "      <td>NaN</td>\n",
       "      <td>NaN</td>\n",
       "      <td>...</td>\n",
       "      <td>NaN</td>\n",
       "      <td>NaN</td>\n",
       "      <td>NaN</td>\n",
       "      <td>NaN</td>\n",
       "      <td>NaN</td>\n",
       "      <td>NaN</td>\n",
       "      <td>NaN</td>\n",
       "      <td>NaN</td>\n",
       "      <td>NaN</td>\n",
       "      <td>NaN</td>\n",
       "    </tr>\n",
       "    <tr>\n",
       "      <th>1</th>\n",
       "      <td>-1</td>\n",
       "      <td>1</td>\n",
       "      <td>10</td>\n",
       "      <td>NaN</td>\n",
       "      <td>NaN</td>\n",
       "      <td>1661966346</td>\n",
       "      <td>{'artifact_path': 'wandb-client-artifact://t9r...</td>\n",
       "      <td>NaN</td>\n",
       "      <td>NaN</td>\n",
       "      <td>NaN</td>\n",
       "      <td>...</td>\n",
       "      <td>NaN</td>\n",
       "      <td>NaN</td>\n",
       "      <td>NaN</td>\n",
       "      <td>NaN</td>\n",
       "      <td>NaN</td>\n",
       "      <td>NaN</td>\n",
       "      <td>NaN</td>\n",
       "      <td>NaN</td>\n",
       "      <td>NaN</td>\n",
       "      <td>NaN</td>\n",
       "    </tr>\n",
       "    <tr>\n",
       "      <th>2</th>\n",
       "      <td>0</td>\n",
       "      <td>2</td>\n",
       "      <td>11</td>\n",
       "      <td>NaN</td>\n",
       "      <td>NaN</td>\n",
       "      <td>1661966347</td>\n",
       "      <td>NaN</td>\n",
       "      <td>0.001</td>\n",
       "      <td>NaN</td>\n",
       "      <td>NaN</td>\n",
       "      <td>...</td>\n",
       "      <td>NaN</td>\n",
       "      <td>NaN</td>\n",
       "      <td>NaN</td>\n",
       "      <td>NaN</td>\n",
       "      <td>NaN</td>\n",
       "      <td>NaN</td>\n",
       "      <td>NaN</td>\n",
       "      <td>NaN</td>\n",
       "      <td>NaN</td>\n",
       "      <td>NaN</td>\n",
       "    </tr>\n",
       "    <tr>\n",
       "      <th>3</th>\n",
       "      <td>9</td>\n",
       "      <td>3</td>\n",
       "      <td>13</td>\n",
       "      <td>NaN</td>\n",
       "      <td>NaN</td>\n",
       "      <td>1661966349</td>\n",
       "      <td>NaN</td>\n",
       "      <td>0.001</td>\n",
       "      <td>NaN</td>\n",
       "      <td>NaN</td>\n",
       "      <td>...</td>\n",
       "      <td>NaN</td>\n",
       "      <td>NaN</td>\n",
       "      <td>NaN</td>\n",
       "      <td>NaN</td>\n",
       "      <td>NaN</td>\n",
       "      <td>NaN</td>\n",
       "      <td>NaN</td>\n",
       "      <td>NaN</td>\n",
       "      <td>NaN</td>\n",
       "      <td>NaN</td>\n",
       "    </tr>\n",
       "    <tr>\n",
       "      <th>4</th>\n",
       "      <td>9</td>\n",
       "      <td>4</td>\n",
       "      <td>14</td>\n",
       "      <td>NaN</td>\n",
       "      <td>NaN</td>\n",
       "      <td>1661966350</td>\n",
       "      <td>NaN</td>\n",
       "      <td>NaN</td>\n",
       "      <td>{'path': 'media/table/train/predictions_4_9748...</td>\n",
       "      <td>NaN</td>\n",
       "      <td>...</td>\n",
       "      <td>NaN</td>\n",
       "      <td>NaN</td>\n",
       "      <td>NaN</td>\n",
       "      <td>NaN</td>\n",
       "      <td>NaN</td>\n",
       "      <td>NaN</td>\n",
       "      <td>NaN</td>\n",
       "      <td>NaN</td>\n",
       "      <td>NaN</td>\n",
       "      <td>NaN</td>\n",
       "    </tr>\n",
       "  </tbody>\n",
       "</table>\n",
       "<p>5 rows × 112 columns</p>\n",
       "</div>"
      ],
      "text/plain": [
       "   trainer/global_step  _step  _runtime  size/nparams  size/mb_disk  \\\n",
       "0                   -1      0         8     4297331.0      17.22701   \n",
       "1                   -1      1        10           NaN           NaN   \n",
       "2                    0      2        11           NaN           NaN   \n",
       "3                    9      3        13           NaN           NaN   \n",
       "4                    9      4        14           NaN           NaN   \n",
       "\n",
       "   _timestamp                             validation/predictions  \\\n",
       "0  1661966344                                                NaN   \n",
       "1  1661966346  {'artifact_path': 'wandb-client-artifact://t9r...   \n",
       "2  1661966347                                                NaN   \n",
       "3  1661966349                                                NaN   \n",
       "4  1661966350                                                NaN   \n",
       "\n",
       "   optimizer/lr-Adam                                  train/predictions  \\\n",
       "0                NaN                                                NaN   \n",
       "1                NaN                                                NaN   \n",
       "2              0.001                                                NaN   \n",
       "3              0.001                                                NaN   \n",
       "4                NaN  {'path': 'media/table/train/predictions_4_9748...   \n",
       "\n",
       "   train/loss  ...  gradients/transformer_decoder.layers.0.norm3.bias  \\\n",
       "0         NaN  ...                                                NaN   \n",
       "1         NaN  ...                                                NaN   \n",
       "2         NaN  ...                                                NaN   \n",
       "3         NaN  ...                                                NaN   \n",
       "4         NaN  ...                                                NaN   \n",
       "\n",
       "   gradients/transformer_decoder.layers.2.self_attn.in_proj_weight  \\\n",
       "0                                                NaN                 \n",
       "1                                                NaN                 \n",
       "2                                                NaN                 \n",
       "3                                                NaN                 \n",
       "4                                                NaN                 \n",
       "\n",
       "   gradients/transformer_decoder.layers.1.self_attn.in_proj_weight  \\\n",
       "0                                                NaN                 \n",
       "1                                                NaN                 \n",
       "2                                                NaN                 \n",
       "3                                                NaN                 \n",
       "4                                                NaN                 \n",
       "\n",
       "  gradients/transformer_decoder.layers.0.linear1.weight  \\\n",
       "0                                                NaN      \n",
       "1                                                NaN      \n",
       "2                                                NaN      \n",
       "3                                                NaN      \n",
       "4                                                NaN      \n",
       "\n",
       "  gradients/line_cnn.convs.2.conv.weight  \\\n",
       "0                                    NaN   \n",
       "1                                    NaN   \n",
       "2                                    NaN   \n",
       "3                                    NaN   \n",
       "4                                    NaN   \n",
       "\n",
       "  gradients/transformer_decoder.layers.1.norm3.weight  \\\n",
       "0                                                NaN    \n",
       "1                                                NaN    \n",
       "2                                                NaN    \n",
       "3                                                NaN    \n",
       "4                                                NaN    \n",
       "\n",
       "  gradients/transformer_decoder.layers.1.self_attn.out_proj.weight  \\\n",
       "0                                                NaN                 \n",
       "1                                                NaN                 \n",
       "2                                                NaN                 \n",
       "3                                                NaN                 \n",
       "4                                                NaN                 \n",
       "\n",
       "  gradients/transformer_decoder.layers.1.norm2.weight test/cer test/loss  \n",
       "0                                                NaN       NaN       NaN  \n",
       "1                                                NaN       NaN       NaN  \n",
       "2                                                NaN       NaN       NaN  \n",
       "3                                                NaN       NaN       NaN  \n",
       "4                                                NaN       NaN       NaN  \n",
       "\n",
       "[5 rows x 112 columns]"
      ]
     },
     "execution_count": 21,
     "metadata": {},
     "output_type": "execute_result"
    }
   ],
   "source": [
    "run = wb_api.run(\"/\".join( # fetch a run given\n",
    "    [last_expt.entity,     # the user or org it was logged to\n",
    "     last_expt.project,    # the \"project\", usually one of several per repo/application\n",
    "     last_expt.id]         # and a unique ID\n",
    "))\n",
    "\n",
    "hist = run.history()  # and pull down a sample of the data as a pandas DataFrame\n",
    "\n",
    "hist.head(5)"
   ]
  },
  {
   "cell_type": "code",
   "execution_count": 22,
   "id": "ae3dcaa1",
   "metadata": {},
   "outputs": [
    {
     "data": {
      "text/plain": [
       "epoch\n",
       "0.0     3.321208\n",
       "1.0     3.160990\n",
       "2.0     3.174500\n",
       "3.0     2.961284\n",
       "4.0     2.642284\n",
       "5.0     2.658995\n",
       "6.0     2.599283\n",
       "7.0     2.531157\n",
       "8.0     2.486359\n",
       "9.0     2.502108\n",
       "10.0         NaN\n",
       "Name: train/loss, dtype: float64"
      ]
     },
     "execution_count": 22,
     "metadata": {},
     "output_type": "execute_result"
    }
   ],
   "source": [
    "hist.groupby(\"epoch\")[\"train/loss\"].mean()"
   ]
  },
  {
   "cell_type": "code",
   "execution_count": 23,
   "id": "11bbbf26",
   "metadata": {},
   "outputs": [
    {
     "name": "stdout",
     "output_type": "stream",
     "text": [
      "artifact of type run_table: run-1rp5c8fe-validationpredictions:v0\n",
      "artifact of type run_table: run-1rp5c8fe-trainpredictions:v0\n",
      "artifact of type run_table: run-1rp5c8fe-trainpredictions:v1\n",
      "artifact of type run_table: run-1rp5c8fe-validationpredictions:v1\n",
      "artifact of type model: model-1rp5c8fe:v0\n",
      "artifact of type run_table: run-1rp5c8fe-trainpredictions:v2\n",
      "artifact of type run_table: run-1rp5c8fe-trainpredictions:v3\n",
      "artifact of type run_table: run-1rp5c8fe-trainpredictions:v4\n",
      "artifact of type run_table: run-1rp5c8fe-validationpredictions:v2\n",
      "artifact of type model: model-1rp5c8fe:v1\n",
      "artifact of type run_table: run-1rp5c8fe-trainpredictions:v5\n",
      "artifact of type run_table: run-1rp5c8fe-trainpredictions:v6\n",
      "artifact of type run_table: run-1rp5c8fe-trainpredictions:v7\n",
      "artifact of type run_table: run-1rp5c8fe-validationpredictions:v3\n",
      "artifact of type model: model-1rp5c8fe:v2\n",
      "artifact of type run_table: run-1rp5c8fe-trainpredictions:v8\n",
      "artifact of type run_table: run-1rp5c8fe-trainpredictions:v9\n",
      "artifact of type run_table: run-1rp5c8fe-trainpredictions:v10\n",
      "artifact of type run_table: run-1rp5c8fe-validationpredictions:v4\n",
      "artifact of type model: model-1rp5c8fe:v3\n",
      "artifact of type run_table: run-1rp5c8fe-trainpredictions:v11\n",
      "artifact of type run_table: run-1rp5c8fe-trainpredictions:v12\n",
      "artifact of type run_table: run-1rp5c8fe-trainpredictions:v13\n",
      "artifact of type run_table: run-1rp5c8fe-validationpredictions:v5\n",
      "artifact of type model: model-1rp5c8fe:v4\n",
      "artifact of type run_table: run-1rp5c8fe-trainpredictions:v14\n",
      "artifact of type run_table: run-1rp5c8fe-trainpredictions:v15\n",
      "artifact of type run_table: run-1rp5c8fe-trainpredictions:v16\n",
      "artifact of type run_table: run-1rp5c8fe-validationpredictions:v6\n",
      "artifact of type model: model-1rp5c8fe:v5\n",
      "artifact of type run_table: run-1rp5c8fe-trainpredictions:v17\n",
      "artifact of type run_table: run-1rp5c8fe-trainpredictions:v18\n",
      "artifact of type run_table: run-1rp5c8fe-trainpredictions:v19\n",
      "artifact of type run_table: run-1rp5c8fe-validationpredictions:v7\n",
      "artifact of type model: model-1rp5c8fe:v6\n",
      "artifact of type run_table: run-1rp5c8fe-trainpredictions:v20\n",
      "artifact of type run_table: run-1rp5c8fe-trainpredictions:v21\n",
      "artifact of type run_table: run-1rp5c8fe-trainpredictions:v22\n",
      "artifact of type run_table: run-1rp5c8fe-validationpredictions:v8\n",
      "artifact of type model: model-1rp5c8fe:v7\n",
      "artifact of type run_table: run-1rp5c8fe-trainpredictions:v23\n",
      "artifact of type run_table: run-1rp5c8fe-trainpredictions:v24\n",
      "artifact of type run_table: run-1rp5c8fe-trainpredictions:v25\n",
      "artifact of type run_table: run-1rp5c8fe-validationpredictions:v9\n",
      "artifact of type run_table: run-1rp5c8fe-trainpredictions:v26\n",
      "artifact of type run_table: run-1rp5c8fe-trainpredictions:v27\n",
      "artifact of type run_table: run-1rp5c8fe-trainpredictions:v28\n",
      "artifact of type run_table: run-1rp5c8fe-validationpredictions:v10\n",
      "artifact of type model: model-1rp5c8fe:v8\n"
     ]
    }
   ],
   "source": [
    "# which artifacts where created and logged?\n",
    "artifacts = run.logged_artifacts()\n",
    "\n",
    "for artifact in artifacts:\n",
    "    print(f\"artifact of type {artifact.type}: {artifact.name}\")"
   ]
  },
  {
   "cell_type": "code",
   "execution_count": 24,
   "id": "69af39a1",
   "metadata": {},
   "outputs": [],
   "source": [
    "from pathlib import Path\n",
    "\n",
    "artifact = wb_api.artifact(f\"{last_expt.entity}/{last_expt.project}/run-{last_expt.id}-trainpredictions:latest\")\n",
    "artifact_dir = Path(artifact.download(root=\"training/logs\"))\n",
    "image_dir = artifact_dir / \"media\" / \"images\"\n",
    "\n",
    "images = [path for path in image_dir.iterdir()]"
   ]
  },
  {
   "cell_type": "code",
   "execution_count": 25,
   "id": "7df44997",
   "metadata": {},
   "outputs": [
    {
     "data": {
      "text/plain": [
       "PosixPath('training/logs')"
      ]
     },
     "execution_count": 25,
     "metadata": {},
     "output_type": "execute_result"
    }
   ],
   "source": [
    "artifact_dir"
   ]
  },
  {
   "cell_type": "code",
   "execution_count": 26,
   "id": "26470313",
   "metadata": {},
   "outputs": [
    {
     "name": "stdout",
     "output_type": "stream",
     "text": [
      "total 24\r\n",
      "drwxr-xr-x 6 jobquiroz jobquiroz 4096 Aug 30 19:35 .\r\n",
      "drwxr-xr-x 4 jobquiroz jobquiroz 4096 Aug 30 01:17 ..\r\n",
      "drwxr-xr-x 9 jobquiroz jobquiroz 4096 Aug 31 17:19 lightning_logs\r\n",
      "drwxr-xr-x 3 jobquiroz jobquiroz 4096 Aug 30 19:35 media\r\n",
      "drwxr-xr-x 2 jobquiroz jobquiroz 4096 Aug 30 19:35 train\r\n",
      "drwxr-xr-x 5 jobquiroz jobquiroz 4096 Aug 31 17:18 wandb\r\n"
     ]
    }
   ],
   "source": [
    "!ls training/logs -la"
   ]
  },
  {
   "cell_type": "code",
   "execution_count": 27,
   "id": "339b114e",
   "metadata": {},
   "outputs": [
    {
     "data": {
      "text/plain": [
       "[PosixPath('training/logs/media/images/cf869b842dee0124639b.png'),\n",
       " PosixPath('training/logs/media/images/eb9073928afd080006fa.png'),\n",
       " PosixPath('training/logs/media/images/908cb06b021569d7ea8f.png'),\n",
       " PosixPath('training/logs/media/images/8dad95613bae624d82bb.png'),\n",
       " PosixPath('training/logs/media/images/a860db868e00dd9dab66.png'),\n",
       " PosixPath('training/logs/media/images/7307df1b02786438b4c7.png'),\n",
       " PosixPath('training/logs/media/images/e97392ce19f66089ad50.png'),\n",
       " PosixPath('training/logs/media/images/da9279714d1698cefc6f.png'),\n",
       " PosixPath('training/logs/media/images/cd49cf8327a16fa9e36d.png'),\n",
       " PosixPath('training/logs/media/images/a3deacb3a70e1e6c2e09.png'),\n",
       " PosixPath('training/logs/media/images/ae44cd874a3442bd1a8e.png'),\n",
       " PosixPath('training/logs/media/images/261ab814bbf3201891f7.png'),\n",
       " PosixPath('training/logs/media/images/eb17fe4876fccb9627ff.png'),\n",
       " PosixPath('training/logs/media/images/93ce94f09bd14c7a5b16.png'),\n",
       " PosixPath('training/logs/media/images/a7f3b95017ce8bafe519.png'),\n",
       " PosixPath('training/logs/media/images/9716e646520f5bb320ce.png'),\n",
       " PosixPath('training/logs/media/images/3b483a9a12a649919ca2.png'),\n",
       " PosixPath('training/logs/media/images/3067e6495c79910c64bf.png'),\n",
       " PosixPath('training/logs/media/images/0806931525cb1bc188f9.png'),\n",
       " PosixPath('training/logs/media/images/ab5c61596462a6d918d0.png'),\n",
       " PosixPath('training/logs/media/images/c4e7b66dd42030af2bf9.png'),\n",
       " PosixPath('training/logs/media/images/b3467404dc395d8899ad.png'),\n",
       " PosixPath('training/logs/media/images/378b3ac01424f98fd8ce.png'),\n",
       " PosixPath('training/logs/media/images/5e546b86ed4a88ed77f6.png'),\n",
       " PosixPath('training/logs/media/images/9165749803518277b189.png'),\n",
       " PosixPath('training/logs/media/images/d196dbf73514b4e8cccf.png'),\n",
       " PosixPath('training/logs/media/images/c82c6659d0741111e8f4.png'),\n",
       " PosixPath('training/logs/media/images/9a3a8c1a9603b7854db2.png'),\n",
       " PosixPath('training/logs/media/images/429b538403a4d8f6a9df.png'),\n",
       " PosixPath('training/logs/media/images/cee33ac8de1e0396f07c.png'),\n",
       " PosixPath('training/logs/media/images/e27a3312109152b2dff5.png'),\n",
       " PosixPath('training/logs/media/images/a43a3119e8da207e05cb.png')]"
      ]
     },
     "execution_count": 27,
     "metadata": {},
     "output_type": "execute_result"
    }
   ],
   "source": [
    "images"
   ]
  },
  {
   "cell_type": "code",
   "execution_count": 28,
   "id": "6ffd604f",
   "metadata": {},
   "outputs": [
    {
     "data": {
      "image/png": "[encoded data removed]",
      "text/plain": [
       "<IPython.core.display.Image object>"
      ]
     },
     "execution_count": 28,
     "metadata": {},
     "output_type": "execute_result"
    }
   ],
   "source": [
    "import random\n",
    "\n",
    "from IPython.display import Image\n",
    "\n",
    "Image(str(random.choice(images)))"
   ]
  },
  {
   "cell_type": "code",
   "execution_count": 29,
   "id": "b0dfc0ef",
   "metadata": {},
   "outputs": [
    {
     "data": {
      "text/html": [
       "<iframe src=\"https://wandb.ai/cfrye59/fsdl-text-recognizer-2021-training/workspace?jupyter=true\" style=\"border:none;width:100%;height:420px;\"></iframe>"
      ],
      "text/plain": [
       "<Project cfrye59/fsdl-text-recognizer-2021-training>"
      ]
     },
     "execution_count": 29,
     "metadata": {},
     "output_type": "execute_result"
    }
   ],
   "source": [
    "text_recognizer_project = wb_api.project(\"fsdl-text-recognizer-2021-training\", entity=\"cfrye59\")\n",
    "\n",
    "text_recognizer_project  "
   ]
  },
  {
   "cell_type": "code",
   "execution_count": 30,
   "id": "18b764e0",
   "metadata": {},
   "outputs": [
    {
     "data": {
      "text/plain": [
       "<wandb.apis.public.ProjectArtifactTypes at 0x7f8924314fd0>"
      ]
     },
     "execution_count": 30,
     "metadata": {},
     "output_type": "execute_result"
    }
   ],
   "source": [
    "text_recognizer_project.artifacts_types()"
   ]
  },
  {
   "cell_type": "code",
   "execution_count": 31,
   "id": "7ac01e17",
   "metadata": {},
   "outputs": [
    {
     "name": "stdout",
     "output_type": "stream",
     "text": [
      "https://wandb.ai/cfrye59/fsdl-text-recognizer-2021-training/artifacts/prod-ready/paragraph-text-recognizer/v8\n"
     ]
    },
    {
     "data": {
      "text/html": [
       "\n",
       "        <iframe\n",
       "            width=\"100%\"\n",
       "            height=\"720\"\n",
       "            src=\"https://wandb.ai/cfrye59/fsdl-text-recognizer-2021-training/artifacts/prod-ready/paragraph-text-recognizer/v8\"\n",
       "            frameborder=\"0\"\n",
       "            allowfullscreen\n",
       "            \n",
       "        ></iframe>\n",
       "        "
      ],
      "text/plain": [
       "<IPython.lib.display.IFrame at 0x7f89243140d0>"
      ]
     },
     "execution_count": 31,
     "metadata": {},
     "output_type": "execute_result"
    }
   ],
   "source": [
    "# collect all versions of the text-recognizer ever put into production by...\n",
    "\n",
    "for art_type in text_recognizer_project.artifacts_types(): # looking through all artifact types\n",
    "    if art_type.name == \"prod-ready\":  # for the prod-ready type\n",
    "        # and grabbing the text-recognizer\n",
    "        production_text_recognizers = art_type.collection(\"paragraph-text-recognizer\").versions()\n",
    "\n",
    "# and then get the one that's currently being tested in CI by...\n",
    "for text_recognizer in production_text_recognizers:\n",
    "    if \"ci-test\" in text_recognizer.aliases:  # looking for the one that's labeled as CI-tested\n",
    "        in_prod_text_recognizer = text_recognizer\n",
    "\n",
    "# view its metadata at the url or in the notebook\n",
    "in_prod_text_recognizer_url = text_recognizer_project.url[:-9] + f\"artifacts/{in_prod_text_recognizer.type}/{in_prod_text_recognizer.name.replace(':', '/')}\"\n",
    "\n",
    "print(in_prod_text_recognizer_url)\n",
    "IFrame(src=in_prod_text_recognizer_url, width=\"100%\", height=frame_height)"
   ]
  },
  {
   "cell_type": "code",
   "execution_count": 32,
   "id": "8843891c",
   "metadata": {},
   "outputs": [
    {
     "data": {
      "text/plain": [
       "'model-1vrnrd8p:v41'"
      ]
     },
     "execution_count": 32,
     "metadata": {},
     "output_type": "execute_result"
    }
   ],
   "source": [
    "staging_run = in_prod_text_recognizer.logged_by()\n",
    "\n",
    "training_ckpt, = [at for at in staging_run.used_artifacts() if at.type == \"model\"]\n",
    "training_ckpt.name"
   ]
  },
  {
   "cell_type": "code",
   "execution_count": 33,
   "id": "fe9dfdab",
   "metadata": {},
   "outputs": [
    {
     "name": "stdout",
     "output_type": "stream",
     "text": [
      "https://wandb.ai/cfrye59/fsdl-text-recognizer-2021-training/runs/1vrnrd8p\n"
     ]
    },
    {
     "data": {
      "text/html": [
       "\n",
       "        <iframe\n",
       "            width=\"100%\"\n",
       "            height=\"720\"\n",
       "            src=\"https://wandb.ai/cfrye59/fsdl-text-recognizer-2021-training/runs/1vrnrd8p\"\n",
       "            frameborder=\"0\"\n",
       "            allowfullscreen\n",
       "            \n",
       "        ></iframe>\n",
       "        "
      ],
      "text/plain": [
       "<IPython.lib.display.IFrame at 0x7f894a3c8d90>"
      ]
     },
     "execution_count": 33,
     "metadata": {},
     "output_type": "execute_result"
    }
   ],
   "source": [
    "training_run = training_ckpt.logged_by()\n",
    "print(training_run.url)\n",
    "IFrame(src=training_run.url, width=\"100%\", height=frame_height)"
   ]
  },
  {
   "cell_type": "code",
   "execution_count": 34,
   "id": "74695d51",
   "metadata": {},
   "outputs": [
    {
     "data": {
      "text/html": [
       "<div>\n",
       "<style scoped>\n",
       "    .dataframe tbody tr th:only-of-type {\n",
       "        vertical-align: middle;\n",
       "    }\n",
       "\n",
       "    .dataframe tbody tr th {\n",
       "        vertical-align: top;\n",
       "    }\n",
       "\n",
       "    .dataframe thead th {\n",
       "        text-align: right;\n",
       "    }\n",
       "</style>\n",
       "<table border=\"1\" class=\"dataframe\">\n",
       "  <thead>\n",
       "    <tr style=\"text-align: right;\">\n",
       "      <th></th>\n",
       "      <th>trainer/global_step</th>\n",
       "      <th>_step</th>\n",
       "      <th>_runtime</th>\n",
       "      <th>size/nparams</th>\n",
       "      <th>size/mb_disk</th>\n",
       "      <th>_timestamp</th>\n",
       "      <th>validation/predictions</th>\n",
       "      <th>optimizer/lr-Adam</th>\n",
       "      <th>gradients/encoder_projection.weight</th>\n",
       "      <th>gradients/transformer_decoder.layers.0.linear2.bias</th>\n",
       "      <th>...</th>\n",
       "      <th>gradients/transformer_decoder.layers.1.self_attn.out_proj.weight</th>\n",
       "      <th>gradients/resnet.4.1.bn2.bias</th>\n",
       "      <th>gradients/transformer_decoder.layers.1.norm2.weight</th>\n",
       "      <th>train/predictions</th>\n",
       "      <th>train/loss</th>\n",
       "      <th>epoch</th>\n",
       "      <th>validation/cer</th>\n",
       "      <th>validation/loss</th>\n",
       "      <th>test/cer</th>\n",
       "      <th>test/loss</th>\n",
       "    </tr>\n",
       "  </thead>\n",
       "  <tbody>\n",
       "    <tr>\n",
       "      <th>0</th>\n",
       "      <td>-1</td>\n",
       "      <td>0</td>\n",
       "      <td>98</td>\n",
       "      <td>13988756.0</td>\n",
       "      <td>56.064631</td>\n",
       "      <td>1654129282</td>\n",
       "      <td>NaN</td>\n",
       "      <td>NaN</td>\n",
       "      <td>NaN</td>\n",
       "      <td>NaN</td>\n",
       "      <td>...</td>\n",
       "      <td>NaN</td>\n",
       "      <td>NaN</td>\n",
       "      <td>NaN</td>\n",
       "      <td>NaN</td>\n",
       "      <td>NaN</td>\n",
       "      <td>NaN</td>\n",
       "      <td>NaN</td>\n",
       "      <td>NaN</td>\n",
       "      <td>NaN</td>\n",
       "      <td>NaN</td>\n",
       "    </tr>\n",
       "    <tr>\n",
       "      <th>1</th>\n",
       "      <td>-1</td>\n",
       "      <td>1</td>\n",
       "      <td>133</td>\n",
       "      <td>NaN</td>\n",
       "      <td>NaN</td>\n",
       "      <td>1654129317</td>\n",
       "      <td>{'size': 34810, '_latest_artifact_path': 'wand...</td>\n",
       "      <td>NaN</td>\n",
       "      <td>NaN</td>\n",
       "      <td>NaN</td>\n",
       "      <td>...</td>\n",
       "      <td>NaN</td>\n",
       "      <td>NaN</td>\n",
       "      <td>NaN</td>\n",
       "      <td>NaN</td>\n",
       "      <td>NaN</td>\n",
       "      <td>NaN</td>\n",
       "      <td>NaN</td>\n",
       "      <td>NaN</td>\n",
       "      <td>NaN</td>\n",
       "      <td>NaN</td>\n",
       "    </tr>\n",
       "    <tr>\n",
       "      <th>2</th>\n",
       "      <td>0</td>\n",
       "      <td>2</td>\n",
       "      <td>133</td>\n",
       "      <td>NaN</td>\n",
       "      <td>NaN</td>\n",
       "      <td>1654129317</td>\n",
       "      <td>NaN</td>\n",
       "      <td>0.0001</td>\n",
       "      <td>NaN</td>\n",
       "      <td>NaN</td>\n",
       "      <td>...</td>\n",
       "      <td>NaN</td>\n",
       "      <td>NaN</td>\n",
       "      <td>NaN</td>\n",
       "      <td>NaN</td>\n",
       "      <td>NaN</td>\n",
       "      <td>NaN</td>\n",
       "      <td>NaN</td>\n",
       "      <td>NaN</td>\n",
       "      <td>NaN</td>\n",
       "      <td>NaN</td>\n",
       "    </tr>\n",
       "    <tr>\n",
       "      <th>3</th>\n",
       "      <td>39</td>\n",
       "      <td>3</td>\n",
       "      <td>159</td>\n",
       "      <td>NaN</td>\n",
       "      <td>NaN</td>\n",
       "      <td>1654129343</td>\n",
       "      <td>NaN</td>\n",
       "      <td>0.0001</td>\n",
       "      <td>NaN</td>\n",
       "      <td>NaN</td>\n",
       "      <td>...</td>\n",
       "      <td>NaN</td>\n",
       "      <td>NaN</td>\n",
       "      <td>NaN</td>\n",
       "      <td>NaN</td>\n",
       "      <td>NaN</td>\n",
       "      <td>NaN</td>\n",
       "      <td>NaN</td>\n",
       "      <td>NaN</td>\n",
       "      <td>NaN</td>\n",
       "      <td>NaN</td>\n",
       "    </tr>\n",
       "    <tr>\n",
       "      <th>4</th>\n",
       "      <td>78</td>\n",
       "      <td>4</td>\n",
       "      <td>177</td>\n",
       "      <td>NaN</td>\n",
       "      <td>NaN</td>\n",
       "      <td>1654129361</td>\n",
       "      <td>NaN</td>\n",
       "      <td>0.0001</td>\n",
       "      <td>NaN</td>\n",
       "      <td>NaN</td>\n",
       "      <td>...</td>\n",
       "      <td>NaN</td>\n",
       "      <td>NaN</td>\n",
       "      <td>NaN</td>\n",
       "      <td>NaN</td>\n",
       "      <td>NaN</td>\n",
       "      <td>NaN</td>\n",
       "      <td>NaN</td>\n",
       "      <td>NaN</td>\n",
       "      <td>NaN</td>\n",
       "      <td>NaN</td>\n",
       "    </tr>\n",
       "  </tbody>\n",
       "</table>\n",
       "<p>5 rows × 152 columns</p>\n",
       "</div>"
      ],
      "text/plain": [
       "   trainer/global_step  _step  _runtime  size/nparams  size/mb_disk  \\\n",
       "0                   -1      0        98    13988756.0     56.064631   \n",
       "1                   -1      1       133           NaN           NaN   \n",
       "2                    0      2       133           NaN           NaN   \n",
       "3                   39      3       159           NaN           NaN   \n",
       "4                   78      4       177           NaN           NaN   \n",
       "\n",
       "   _timestamp                             validation/predictions  \\\n",
       "0  1654129282                                                NaN   \n",
       "1  1654129317  {'size': 34810, '_latest_artifact_path': 'wand...   \n",
       "2  1654129317                                                NaN   \n",
       "3  1654129343                                                NaN   \n",
       "4  1654129361                                                NaN   \n",
       "\n",
       "   optimizer/lr-Adam gradients/encoder_projection.weight  \\\n",
       "0                NaN                                 NaN   \n",
       "1                NaN                                 NaN   \n",
       "2             0.0001                                 NaN   \n",
       "3             0.0001                                 NaN   \n",
       "4             0.0001                                 NaN   \n",
       "\n",
       "  gradients/transformer_decoder.layers.0.linear2.bias  ...  \\\n",
       "0                                                NaN   ...   \n",
       "1                                                NaN   ...   \n",
       "2                                                NaN   ...   \n",
       "3                                                NaN   ...   \n",
       "4                                                NaN   ...   \n",
       "\n",
       "  gradients/transformer_decoder.layers.1.self_attn.out_proj.weight  \\\n",
       "0                                                NaN                 \n",
       "1                                                NaN                 \n",
       "2                                                NaN                 \n",
       "3                                                NaN                 \n",
       "4                                                NaN                 \n",
       "\n",
       "  gradients/resnet.4.1.bn2.bias  \\\n",
       "0                           NaN   \n",
       "1                           NaN   \n",
       "2                           NaN   \n",
       "3                           NaN   \n",
       "4                           NaN   \n",
       "\n",
       "  gradients/transformer_decoder.layers.1.norm2.weight train/predictions  \\\n",
       "0                                                NaN                NaN   \n",
       "1                                                NaN                NaN   \n",
       "2                                                NaN                NaN   \n",
       "3                                                NaN                NaN   \n",
       "4                                                NaN                NaN   \n",
       "\n",
       "  train/loss epoch validation/cer validation/loss test/cer test/loss  \n",
       "0        NaN   NaN            NaN             NaN      NaN       NaN  \n",
       "1        NaN   NaN            NaN             NaN      NaN       NaN  \n",
       "2        NaN   NaN            NaN             NaN      NaN       NaN  \n",
       "3        NaN   NaN            NaN             NaN      NaN       NaN  \n",
       "4        NaN   NaN            NaN             NaN      NaN       NaN  \n",
       "\n",
       "[5 rows x 152 columns]"
      ]
     },
     "execution_count": 34,
     "metadata": {},
     "output_type": "execute_result"
    }
   ],
   "source": [
    "training_results = training_run.history(samples=10000)\n",
    "training_results.head()"
   ]
  },
  {
   "cell_type": "code",
   "execution_count": 35,
   "id": "e432ac72",
   "metadata": {},
   "outputs": [],
   "source": [
    "ax = training_results.groupby(\"epoch\")[\"train/loss\"].mean().plot();\n",
    "training_results[\"validation/loss\"].dropna().plot(logy=True); ax.legend();"
   ]
  },
  {
   "cell_type": "code",
   "execution_count": 36,
   "id": "31b8cd4a",
   "metadata": {},
   "outputs": [
    {
     "data": {
      "text/plain": [
       "0.19675205647945404"
      ]
     },
     "execution_count": 36,
     "metadata": {},
     "output_type": "execute_result"
    }
   ],
   "source": [
    "idx = 10\n",
    "training_results[\"validation/loss\"].dropna().iloc[10]"
   ]
  },
  {
   "cell_type": "markdown",
   "id": "79e8e61e",
   "metadata": {},
   "source": [
    "## Hyperparameter optimization"
   ]
  },
  {
   "cell_type": "code",
   "execution_count": 38,
   "id": "f5cce992",
   "metadata": {},
   "outputs": [
    {
     "name": "stdout",
     "output_type": "stream",
     "text": [
      "Writing training/simple-overfit-sweep.yaml\n"
     ]
    }
   ],
   "source": [
    "%%writefile training/simple-overfit-sweep.yaml\n",
    "# first we specify what we're sweeping\n",
    "# we specify a program to run\n",
    "program: training/run_experiment.py\n",
    "# we optionally specify how to run it, including setting default arguments\n",
    "command:  \n",
    "    - ${env}\n",
    "    - ${interpreter}\n",
    "    - ${program}\n",
    "    - \"--wandb\"\n",
    "    - \"--overfit_batches\"\n",
    "    - \"1\"\n",
    "    - \"--log_every_n_steps\"\n",
    "    - \"25\"\n",
    "    - \"--max_epochs\"\n",
    "    - \"100\"\n",
    "    - \"--limit_test_batches\"\n",
    "    - \"0\"\n",
    "    - ${args}  # these arguments come from the sweep parameters below\n",
    "\n",
    "# and we specify which parameters to sweep over, what we're optimizing, and how we want to optimize it\n",
    "method: random  # generally, random searches perform well, can also be \"grid\" or \"bayes\"\n",
    "metric:\n",
    "    name: train/loss\n",
    "    goal: minimize\n",
    "parameters:  \n",
    "    # LineCNN hyperparameters\n",
    "    window_width:\n",
    "        values: [8, 16, 32, 64]\n",
    "    window_stride:\n",
    "        values: [4, 8, 16, 32]\n",
    "    # Transformer hyperparameters\n",
    "    tf_layers:\n",
    "        values: [1, 2, 4, 8]\n",
    "    # we can also fix some values, just like we set default arguments\n",
    "    gpus:\n",
    "        value: 1\n",
    "    model_class:\n",
    "        value: LineCNNTransformer\n",
    "    data_class:\n",
    "        value: IAMLines\n",
    "    loss:\n",
    "        value: transformer"
   ]
  },
  {
   "cell_type": "code",
   "execution_count": 39,
   "id": "9d7bdc14",
   "metadata": {},
   "outputs": [
    {
     "name": "stdout",
     "output_type": "stream",
     "text": [
      "\u001b[34m\u001b[1mwandb\u001b[0m: Creating sweep from: training/simple-overfit-sweep.yaml\n",
      "\u001b[34m\u001b[1mwandb\u001b[0m: Created sweep with ID: \u001b[33mwij1afrq\u001b[0m\n",
      "\u001b[34m\u001b[1mwandb\u001b[0m: View sweep at: \u001b[34m\u001b[4mhttps://wandb.ai/jobquiroz/fsdl-line-recognizer-2022/sweeps/wij1afrq\u001b[0m\n",
      "\u001b[34m\u001b[1mwandb\u001b[0m: Run sweep agent with: \u001b[33mwandb agent jobquiroz/fsdl-line-recognizer-2022/wij1afrq\u001b[0m\n"
     ]
    }
   ],
   "source": [
    "!wandb sweep training/simple-overfit-sweep.yaml --project fsdl-line-recognizer-2022\n",
    "simple_sweep_id = wb_api.project(\"fsdl-line-recognizer-2022\").sweeps()[0].id"
   ]
  },
  {
   "cell_type": "code",
   "execution_count": 40,
   "id": "035567bd",
   "metadata": {},
   "outputs": [
    {
     "data": {
      "text/plain": [
       "'wij1afrq'"
      ]
     },
     "execution_count": 40,
     "metadata": {},
     "output_type": "execute_result"
    }
   ],
   "source": [
    "simple_sweep_id"
   ]
  },
  {
   "cell_type": "code",
   "execution_count": 41,
   "id": "94de8047",
   "metadata": {},
   "outputs": [
    {
     "name": "stdout",
     "output_type": "stream",
     "text": [
      "\u001b[34m\u001b[1mwandb\u001b[0m: Starting wandb agent 🕵️\n",
      "2022-08-31 17:30:40,324 - wandb.wandb_agent - INFO - Running runs: []\n",
      "2022-08-31 17:30:40,459 - wandb.wandb_agent - INFO - Agent received command: run\n",
      "2022-08-31 17:30:40,459 - wandb.wandb_agent - INFO - Agent starting run with config:\n",
      "\tdata_class: IAMLines\n",
      "\tgpus: 1\n",
      "\tloss: transformer\n",
      "\tmodel_class: LineCNNTransformer\n",
      "\ttf_layers: 4\n",
      "\twindow_stride: 8\n",
      "\twindow_width: 16\n",
      "2022-08-31 17:30:40,461 - wandb.wandb_agent - INFO - About to run command: /usr/bin/env python training/run_experiment.py --wandb --overfit_batches 1 --log_every_n_steps 25 --max_epochs 100 --limit_test_batches 0 --data_class=IAMLines --gpus=1 --loss=transformer --model_class=LineCNNTransformer --tf_layers=4 --window_stride=8 --window_width=16\n",
      "\u001b[34m\u001b[1mwandb\u001b[0m: Currently logged in as: \u001b[33mjobquiroz\u001b[0m. Use \u001b[1m`wandb login --relogin`\u001b[0m to force relogin\n",
      "\u001b[34m\u001b[1mwandb\u001b[0m: wandb version 0.13.2 is available!  To upgrade, please run:\n",
      "\u001b[34m\u001b[1mwandb\u001b[0m:  $ pip install wandb --upgrade\n",
      "\u001b[34m\u001b[1mwandb\u001b[0m: Tracking run with wandb version 0.12.17\n",
      "\u001b[34m\u001b[1mwandb\u001b[0m: Run data is saved locally in \u001b[35m\u001b[1mtraining/logs/wandb/run-20220831_173042-vijx0w87\u001b[0m\n",
      "\u001b[34m\u001b[1mwandb\u001b[0m: Run \u001b[1m`wandb offline`\u001b[0m to turn off syncing.\n",
      "\u001b[34m\u001b[1mwandb\u001b[0m: Resuming run \u001b[33mgood-sweep-1\u001b[0m\n",
      "\u001b[34m\u001b[1mwandb\u001b[0m: ⭐️ View project at \u001b[34m\u001b[4mhttps://wandb.ai/jobquiroz/fsdl-line-recognizer-2022\u001b[0m\n",
      "\u001b[34m\u001b[1mwandb\u001b[0m: 🧹 View sweep at \u001b[34m\u001b[4mhttps://wandb.ai/jobquiroz/fsdl-line-recognizer-2022/sweeps/wij1afrq\u001b[0m\n",
      "\u001b[34m\u001b[1mwandb\u001b[0m: 🚀 View run at \u001b[34m\u001b[4mhttps://wandb.ai/jobquiroz/fsdl-line-recognizer-2022/runs/vijx0w87\u001b[0m\n",
      "\u001b[34m\u001b[1mwandb\u001b[0m: logging graph, to disable use `wandb.watch(log_graph=False)`\n",
      "\u001b[34m\u001b[1mwandb\u001b[0m: \u001b[33mWARNING\u001b[0m Config item 'gpus' was locked by 'sweep' (ignored update).\n",
      "\u001b[34m\u001b[1mwandb\u001b[0m: \u001b[33mWARNING\u001b[0m Config item 'data_class' was locked by 'sweep' (ignored update).\n",
      "\u001b[34m\u001b[1mwandb\u001b[0m: \u001b[33mWARNING\u001b[0m Config item 'model_class' was locked by 'sweep' (ignored update).\n",
      "\u001b[34m\u001b[1mwandb\u001b[0m: \u001b[33mWARNING\u001b[0m Config item 'window_width' was locked by 'sweep' (ignored update).\n",
      "\u001b[34m\u001b[1mwandb\u001b[0m: \u001b[33mWARNING\u001b[0m Config item 'window_stride' was locked by 'sweep' (ignored update).\n",
      "\u001b[34m\u001b[1mwandb\u001b[0m: \u001b[33mWARNING\u001b[0m Config item 'tf_layers' was locked by 'sweep' (ignored update).\n",
      "\u001b[34m\u001b[1mwandb\u001b[0m: \u001b[33mWARNING\u001b[0m Config item 'loss' was locked by 'sweep' (ignored update).\n",
      "Trainer already configured with model summary callbacks: [<class 'pytorch_lightning.callbacks.model_summary.ModelSummary'>]. Skipping setting a default `ModelSummary` callback.\n",
      "GPU available: True, used: True\n",
      "TPU available: False, using: 0 TPU cores\n",
      "IPU available: False, using: 0 IPUs\n",
      "HPU available: False, using: 0 HPUs\n",
      "`Trainer(overfit_batches=1)` was configured so 1 batch will be used.\n",
      "2022-08-31 17:30:45,470 - wandb.wandb_agent - INFO - Running runs: ['vijx0w87']\n",
      "LOCAL_RANK: 0 - CUDA_VISIBLE_DEVICES: [0]\n",
      "\n",
      "   | Name                      | Type               | Params\n",
      "------------------------------------------------------------------\n",
      "0  | model                     | LineCNNTransformer | 4.3 M \n",
      "1  | model.line_cnn            | LineCNN            | 1.6 M \n",
      "2  | model.embedding           | Embedding          | 21.2 K\n",
      "3  | model.fc                  | Linear             | 21.3 K\n",
      "4  | model.pos_encoder         | PositionalEncoding | 0     \n",
      "5  | model.transformer_decoder | TransformerDecoder | 2.6 M \n",
      "6  | train_acc                 | Accuracy           | 0     \n",
      "7  | val_acc                   | Accuracy           | 0     \n",
      "8  | test_acc                  | Accuracy           | 0     \n",
      "9  | val_cer                   | CharacterErrorRate | 0     \n",
      "10 | test_cer                  | CharacterErrorRate | 0     \n",
      "11 | loss_fn                   | CrossEntropyLoss   | 0     \n",
      "------------------------------------------------------------------\n",
      "4.3 M     Trainable params\n",
      "0         Non-trainable params\n",
      "4.3 M     Total params\n",
      "17.189    Total estimated model params size (MB)\n",
      "Model State Dict Disk Size: 17.23 MB\n",
      "/home/jobquiroz/miniconda3/envs/fsdl-text-recognizer-2022/lib/python3.7/site-packages/pytorch_lightning/trainer/connectors/data_connector.py:472: UserWarning: You requested to overfit but enabled training dataloader shuffling. We are turning off the training dataloader shuffling for you.\n",
      "  \"You requested to overfit but enabled training dataloader shuffling.\"\n",
      "/home/jobquiroz/miniconda3/envs/fsdl-text-recognizer-2022/lib/python3.7/site-packages/pytorch_lightning/trainer/trainer.py:1931: PossibleUserWarning: The number of training batches (1) is smaller than the logging interval Trainer(log_every_n_steps=25). Set a lower value for log_every_n_steps if you want to see logs for the training epoch.\n",
      "  category=PossibleUserWarning,\n",
      "Epoch 0: 100%|█████████████| 1/1 [00:06<00:00,  6.31s/it, loss=4.89, v_num=0w87]/home/jobquiroz/miniconda3/envs/fsdl-text-recognizer-2022/lib/python3.7/site-packages/pytorch_lightning/callbacks/model_checkpoint.py:378: UserWarning: `ModelCheckpoint(monitor='validation/cer')` could not find the monitored key in the returned metrics: ['train/loss', 'epoch', 'step']. HINT: Did you call `log('validation/cer', value)` in the `LightningModule`?\n",
      "  warning_cache.warn(m)\n",
      "Epoch 99: 100%|████████████| 1/1 [00:04<00:00,  4.21s/it, loss=2.36, v_num=0w87]\n",
      "LOCAL_RANK: 0 - CUDA_VISIBLE_DEVICES: [0]\n",
      "2022-08-31 17:34:15,486 - wandb.wandb_agent - INFO - Cleaning up finished run: vijx0w87\n",
      "\u001b[34m\u001b[1mwandb\u001b[0m: Terminating and syncing runs. Press ctrl-c to kill.\n",
      "CPU times: user 4.59 s, sys: 858 ms, total: 5.45 s\n",
      "Wall time: 3min 41s\n"
     ]
    }
   ],
   "source": [
    "%%time\n",
    "\n",
    "# interrupt twice to terminate this cell if it's running too long,\n",
    "#   it can be over 15 minutes with some hyperparameters\n",
    "\n",
    "!wandb agent --project fsdl-line-recognizer-2022 --entity {wb_api.default_entity} --count=1 {simple_sweep_id}"
   ]
  },
  {
   "cell_type": "markdown",
   "id": "3a7144b8",
   "metadata": {},
   "source": [
    "Exercise"
   ]
  },
  {
   "cell_type": "code",
   "execution_count": 42,
   "id": "23919db2",
   "metadata": {},
   "outputs": [
    {
     "data": {
      "text/html": [
       "wandb version 0.13.2 is available!  To upgrade, please run:\n",
       " $ pip install wandb --upgrade"
      ],
      "text/plain": [
       "<IPython.core.display.HTML object>"
      ]
     },
     "metadata": {},
     "output_type": "display_data"
    },
    {
     "data": {
      "text/html": [
       "Tracking run with wandb version 0.12.17"
      ],
      "text/plain": [
       "<IPython.core.display.HTML object>"
      ]
     },
     "metadata": {},
     "output_type": "display_data"
    },
    {
     "data": {
      "text/html": [
       "Run data is saved locally in <code>/home/jobquiroz/full_stack_deep_learning/lab04/wandb/run-20220831_173702-2jvkno2d</code>"
      ],
      "text/plain": [
       "<IPython.core.display.HTML object>"
      ]
     },
     "metadata": {},
     "output_type": "display_data"
    },
    {
     "data": {
      "text/html": [
       "Syncing run <strong><a href=\"https://wandb.ai/jobquiroz/trying-wandb/runs/2jvkno2d\" target=\"_blank\">hopeful-thunder-1</a></strong> to <a href=\"https://wandb.ai/jobquiroz/trying-wandb\" target=\"_blank\">Weights & Biases</a> (<a href=\"https://wandb.me/run\" target=\"_blank\">docs</a>)<br/>"
      ],
      "text/plain": [
       "<IPython.core.display.HTML object>"
      ]
     },
     "metadata": {},
     "output_type": "display_data"
    },
    {
     "data": {
      "text/html": [
       "Waiting for W&B process to finish... <strong style=\"color:green\">(success).</strong>"
      ],
      "text/plain": [
       "<IPython.core.display.HTML object>"
      ]
     },
     "metadata": {},
     "output_type": "display_data"
    },
    {
     "data": {
      "application/vnd.jupyter.widget-view+json": {
       "model_id": "",
       "version_major": 2,
       "version_minor": 0
      },
      "text/plain": [
       "VBox(children=(Label(value='0.001 MB of 0.001 MB uploaded (0.000 MB deduped)\\r'), FloatProgress(value=1.0, max…"
      ]
     },
     "metadata": {},
     "output_type": "display_data"
    },
    {
     "data": {
      "text/html": [
       "Synced <strong style=\"color:#cdcd00\">hopeful-thunder-1</strong>: <a href=\"https://wandb.ai/jobquiroz/trying-wandb/runs/2jvkno2d\" target=\"_blank\">https://wandb.ai/jobquiroz/trying-wandb/runs/2jvkno2d</a><br/>Synced 5 W&B file(s), 0 media file(s), 0 artifact file(s) and 0 other file(s)"
      ],
      "text/plain": [
       "<IPython.core.display.HTML object>"
      ]
     },
     "metadata": {},
     "output_type": "display_data"
    },
    {
     "data": {
      "text/html": [
       "Find logs at: <code>./wandb/run-20220831_173702-2jvkno2d/logs</code>"
      ],
      "text/plain": [
       "<IPython.core.display.HTML object>"
      ]
     },
     "metadata": {},
     "output_type": "display_data"
    }
   ],
   "source": [
    "import math\n",
    "import os\n",
    "import random\n",
    "\n",
    "import wandb\n",
    "\n",
    "\n",
    "os.makedirs(\"logs\", exist_ok=True)\n",
    "\n",
    "project = \"trying-wandb\"\n",
    "config = {\"steps\": 50}\n",
    "\n",
    "\n",
    "with wandb.init(project=project, config=config) as run:\n",
    "    steps = wandb.config[\"steps\"]\n",
    "    \n",
    "    for ii in range(steps):\n",
    "        loss = math.exp(-ii) + random.random() / (ii + 1)  # ML means making the loss go down\n",
    "        \n",
    "    with open(\"logs/hello.txt\", \"w\") as f:\n",
    "        f.write(\"hello from wandb, my dudes!\")\n",
    "        \n",
    "    run_id = run.id"
   ]
  },
  {
   "cell_type": "code",
   "execution_count": 44,
   "id": "44678de2",
   "metadata": {},
   "outputs": [
    {
     "name": "stdout",
     "output_type": "stream",
     "text": [
      "loss not logged 🥲\n",
      "hello artifact not logged 🥲\n"
     ]
    },
    {
     "data": {
      "text/html": [
       "<iframe src=\"https://wandb.ai/jobquiroz/trying-wandb/runs/2jvkno2d?jupyter=true\" style=\"border:none;width:100%;height:420px;\"></iframe>"
      ],
      "text/plain": [
       "<Run jobquiroz/trying-wandb/2jvkno2d (finished)>"
      ]
     },
     "execution_count": 44,
     "metadata": {},
     "output_type": "execute_result"
    }
   ],
   "source": [
    "hello_run = wb_api.run(f\"{project}/{run_id}\")\n",
    "\n",
    "# check for logged loss data\n",
    "if \"loss\" not in hello_run.history().keys():\n",
    "    print(\"loss not logged 🥲\")\n",
    "else:\n",
    "    print(\"loss logged successfully 🥞\")\n",
    "    if len(hello_run.history()[\"loss\"]) != steps:\n",
    "        print(\"loss not logged on all steps 🥲\")\n",
    "    else:\n",
    "        print(\"loss logged on all steps 🥞\")\n",
    "\n",
    "artifacts =  hello_run.logged_artifacts()\n",
    "\n",
    "# check for artifact with the right name\n",
    "if \"hello:v0\" not in [artifact.name for artifact in artifacts]:\n",
    "    print(\"hello artifact not logged 🥲\")\n",
    "else:\n",
    "    print(\"hello artifact logged successfully 🥞\")\n",
    "    # check for the file inside the artifacts\n",
    "    if \"hello.txt\" not in sum([list(artifact.manifest.entries.keys()) for artifact in artifacts], []):\n",
    "        print(\"could not find hello.txt 🥲\")\n",
    "    else:\n",
    "        print(\"hello.txt logged successfully 🥞\")\n",
    "    \n",
    "    \n",
    "hello_run"
   ]
  },
  {
   "cell_type": "code",
   "execution_count": 45,
   "id": "c4156211",
   "metadata": {},
   "outputs": [
    {
     "data": {
      "text/plain": [
       "[<Sweep jobquiroz/fsdl-line-recognizer-2022/wij1afrq>]"
      ]
     },
     "execution_count": 45,
     "metadata": {},
     "output_type": "execute_result"
    }
   ],
   "source": [
    "wb_api.project(\"fsdl-line-recognizer-2022\").sweeps()"
   ]
  },
  {
   "cell_type": "code",
   "execution_count": null,
   "id": "3723f217",
   "metadata": {},
   "outputs": [],
   "source": []
  }
 ],
 "metadata": {
  "kernelspec": {
   "display_name": "Python 3",
   "language": "python",
   "name": "python3"
  },
  "language_info": {
   "codemirror_mode": {
    "name": "ipython",
    "version": 3
   },
   "file_extension": ".py",
   "mimetype": "text/x-python",
   "name": "python",
   "nbconvert_exporter": "python",
   "pygments_lexer": "ipython3",
   "version": "3.7.13"
  }
 },
 "nbformat": 4,
 "nbformat_minor": 5
}
